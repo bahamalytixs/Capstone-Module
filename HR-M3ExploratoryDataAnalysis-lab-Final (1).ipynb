{
 "cells": [
  {
   "cell_type": "markdown",
   "metadata": {},
   "source": [
    "<center>\n",
    "    <img src=\"https://gitlab.com/ibm/skills-network/courses/placeholder101/-/raw/master/labs/module%201/images/IDSNlogo.png\" width=\"300\" alt=\"cognitiveclass.ai logo\"  />\n",
    "</center>\n"
   ]
  },
  {
   "cell_type": "markdown",
   "metadata": {},
   "source": [
    "# **Exploratory Data Analysis Lab**\n"
   ]
  },
  {
   "cell_type": "markdown",
   "metadata": {},
   "source": [
    "Estimated time needed: **30** minutes\n"
   ]
  },
  {
   "cell_type": "markdown",
   "metadata": {},
   "source": [
    "In this module you get to work with the cleaned dataset from the previous module.\n",
    "\n",
    "In this assignment you will perform the task of exploratory data analysis.\n",
    "You will find out the distribution of data, presence of outliers and also determine the correlation between different columns in the dataset.\n"
   ]
  },
  {
   "cell_type": "markdown",
   "metadata": {},
   "source": [
    "## Objectives\n"
   ]
  },
  {
   "cell_type": "markdown",
   "metadata": {},
   "source": [
    "In this lab you will perform the following:\n"
   ]
  },
  {
   "cell_type": "markdown",
   "metadata": {},
   "source": [
    "*   Identify the distribution of data in the dataset.\n",
    "\n",
    "*   Identify outliers in the dataset.\n",
    "\n",
    "*   Remove outliers from the dataset.\n",
    "\n",
    "*   Identify correlation between features in the dataset.\n"
   ]
  },
  {
   "cell_type": "markdown",
   "metadata": {},
   "source": [
    "***\n"
   ]
  },
  {
   "cell_type": "markdown",
   "metadata": {},
   "source": [
    "## Hands on Lab\n"
   ]
  },
  {
   "cell_type": "markdown",
   "metadata": {},
   "source": [
    "Import the pandas module.\n"
   ]
  },
  {
   "cell_type": "code",
   "execution_count": 1,
   "metadata": {},
   "outputs": [],
   "source": [
    "import pandas as pd\n",
    "import numpy as np\n",
    "import seaborn as sns\n",
    "import matplotlib.pyplot as plt"
   ]
  },
  {
   "cell_type": "markdown",
   "metadata": {},
   "source": [
    "Load the dataset into a dataframe.\n"
   ]
  },
  {
   "cell_type": "code",
   "execution_count": 2,
   "metadata": {},
   "outputs": [],
   "source": [
    "df = pd.read_csv(\"https://cf-courses-data.s3.us.cloud-object-storage.appdomain.cloud/IBM-DA0321EN-SkillsNetwork/LargeData/m2_survey_data.csv\")"
   ]
  },
  {
   "cell_type": "markdown",
   "metadata": {},
   "source": [
    "## Distribution\n"
   ]
  },
  {
   "cell_type": "markdown",
   "metadata": {},
   "source": [
    "### Determine how the data is distributed\n"
   ]
  },
  {
   "cell_type": "markdown",
   "metadata": {},
   "source": [
    "The column `ConvertedComp` contains Salary converted to annual USD salaries using the exchange rate on 2019-02-01.\n",
    "\n",
    "This assumes 12 working months and 50 working weeks.\n"
   ]
  },
  {
   "cell_type": "markdown",
   "metadata": {},
   "source": [
    "Plot the distribution curve for the column `ConvertedComp`.\n"
   ]
  },
  {
   "cell_type": "code",
   "execution_count": 3,
   "metadata": {},
   "outputs": [],
   "source": [
    "#  Replacing nan values in ConvertedComp Col\n",
    "\n",
    "median = df['ConvertedComp'].median()\n",
    "\n",
    "\"\"\"\n",
    "df['ConvertedComp'].replace(np.NaN, median)\n",
    "\"\"\"\n",
    "\n",
    "df['ConvertedComp'] = df['ConvertedComp'].fillna(median)"
   ]
  },
  {
   "cell_type": "code",
   "execution_count": 4,
   "metadata": {},
   "outputs": [
    {
     "ename": "NameError",
     "evalue": "name 'Yhat' is not defined",
     "output_type": "error",
     "traceback": [
      "\u001b[0;31m---------------------------------------------------------------------------\u001b[0m",
      "\u001b[0;31mNameError\u001b[0m                                 Traceback (most recent call last)",
      "\u001b[0;32m/tmp/ipykernel_3136/679466632.py\u001b[0m in \u001b[0;36m<module>\u001b[0;34m\u001b[0m\n\u001b[1;32m     11\u001b[0m \u001b[0;34m\u001b[0m\u001b[0m\n\u001b[1;32m     12\u001b[0m \u001b[0max1\u001b[0m \u001b[0;34m=\u001b[0m \u001b[0msns\u001b[0m\u001b[0;34m.\u001b[0m\u001b[0mdistplot\u001b[0m\u001b[0;34m(\u001b[0m\u001b[0mdf\u001b[0m\u001b[0;34m[\u001b[0m\u001b[0;34m'ConvertedComp'\u001b[0m\u001b[0;34m]\u001b[0m\u001b[0;34m,\u001b[0m \u001b[0mhist\u001b[0m\u001b[0;34m=\u001b[0m\u001b[0;32mFalse\u001b[0m\u001b[0;34m,\u001b[0m \u001b[0mcolor\u001b[0m\u001b[0;34m=\u001b[0m\u001b[0;34m'red'\u001b[0m\u001b[0;34m,\u001b[0m \u001b[0mlabel\u001b[0m\u001b[0;34m=\u001b[0m\u001b[0;34m'Actual Values'\u001b[0m\u001b[0;34m)\u001b[0m\u001b[0;34m\u001b[0m\u001b[0;34m\u001b[0m\u001b[0m\n\u001b[0;32m---> 13\u001b[0;31m \u001b[0msns\u001b[0m\u001b[0;34m.\u001b[0m\u001b[0mdistplot\u001b[0m\u001b[0;34m(\u001b[0m\u001b[0mYhat\u001b[0m\u001b[0;34m,\u001b[0m \u001b[0mhist\u001b[0m\u001b[0;34m=\u001b[0m\u001b[0;32mFalse\u001b[0m\u001b[0;34m,\u001b[0m \u001b[0mcolor\u001b[0m\u001b[0;34m=\u001b[0m\u001b[0;34m'blue'\u001b[0m\u001b[0;34m,\u001b[0m \u001b[0mlabel\u001b[0m\u001b[0;34m=\u001b[0m\u001b[0;34m'Fitted Values'\u001b[0m\u001b[0;34m,\u001b[0m \u001b[0max\u001b[0m \u001b[0;34m=\u001b[0m \u001b[0max1\u001b[0m\u001b[0;34m)\u001b[0m\u001b[0;34m\u001b[0m\u001b[0;34m\u001b[0m\u001b[0m\n\u001b[0m",
      "\u001b[0;31mNameError\u001b[0m: name 'Yhat' is not defined"
     ]
    },
    {
     "data": {
      "image/png": "[encoded data removed]",
      "text/plain": [
       "<Figure size 432x288 with 1 Axes>"
      ]
     },
     "metadata": {
      "needs_background": "light"
     },
     "output_type": "display_data"
    }
   ],
   "source": [
    "# DISTRIBUTION PLOT OF CONVERTEDCOMP - DISPLOT using sns - working code\n",
    "from   statsmodels.formula.api import ols\n",
    "import io\n",
    "import requests\n",
    "\n",
    "\"\"\"\n",
    "bins = np.linspace(min(df['ConvertedComp']), max(df['ConvertedComp']), 13)   #div into 12 bins\n",
    "\n",
    "sns.distplot(df['ConvertedComp'],kde=True, bins=bins)\n",
    "\"\"\"\n",
    "\n",
    "ax1 = sns.distplot(df['ConvertedComp'], hist=False, color='red', label='Actual Values')\n",
    "sns.distplot(Yhat, hist=False, color='blue', label='Fitted Values', ax = ax1)"
   ]
  },
  {
   "cell_type": "code",
   "execution_count": 5,
   "metadata": {},
   "outputs": [
    {
     "data": {
      "text/plain": [
       "Text(0, 0.5, 'Conversion Amt.')"
      ]
     },
     "execution_count": 5,
     "metadata": {},
     "output_type": "execute_result"
    },
    {
     "data": {
      "image/png": "[encoded data removed]",
      "text/plain": [
       "<Figure size 1080x576 with 1 Axes>"
      ]
     },
     "metadata": {
      "needs_background": "light"
     },
     "output_type": "display_data"
    }
   ],
   "source": [
    "# https://towardsdatascience.com/histograms-and-density-plots-in-python-f6bda88f5ac0\n",
    "# DISTRIBUTION PLOT for CONVERTEDCOMP column\n",
    "\n",
    "import matplotlib.pyplot as plt\n",
    "\n",
    "# matplotlib histogram - to show data distribution\n",
    "bins = np.linspace(min(df['ConvertedComp']), max(df['ConvertedComp']), 13)   #div into 12 bins\n",
    "plt.figure(figsize=(15, 8),edgecolor='blue')\n",
    "plt.hist(df['ConvertedComp'], color = 'blue', edgecolor = 'black', bins = int(2000000/200000))\n",
    "\n",
    "plt.title('Distribution of Converted Salaries')\n",
    "plt.xlabel('Months (Time)')\n",
    "plt.ylabel('Conversion Amt.')"
   ]
  },
  {
   "cell_type": "code",
   "execution_count": null,
   "metadata": {},
   "outputs": [],
   "source": []
  },
  {
   "cell_type": "code",
   "execution_count": 6,
   "metadata": {
    "tags": []
   },
   "outputs": [
    {
     "name": "stdout",
     "output_type": "stream",
     "text": [
      "float64\n"
     ]
    }
   ],
   "source": [
    "# your code goes here\n",
    "print(df['ConvertedComp'].dtypes)\n"
   ]
  },
  {
   "cell_type": "code",
   "execution_count": 7,
   "metadata": {},
   "outputs": [
    {
     "name": "stdout",
     "output_type": "stream",
     "text": [
      "Respondent       int64\n",
      "MainBranch      object\n",
      "Hobbyist        object\n",
      "OpenSourcer     object\n",
      "OpenSource      object\n",
      "                 ...  \n",
      "Sexuality       object\n",
      "Ethnicity       object\n",
      "Dependents      object\n",
      "SurveyLength    object\n",
      "SurveyEase      object\n",
      "Length: 85, dtype: object\n"
     ]
    }
   ],
   "source": [
    "print(df.dtypes)   #Get idea of data type"
   ]
  },
  {
   "cell_type": "code",
   "execution_count": 8,
   "metadata": {},
   "outputs": [
    {
     "name": "stdout",
     "output_type": "stream",
     "text": [
      "<class 'pandas.core.frame.DataFrame'>\n",
      "RangeIndex: 11398 entries, 0 to 11397\n",
      "Data columns (total 85 columns):\n",
      " #   Column                  Non-Null Count  Dtype  \n",
      "---  ------                  --------------  -----  \n",
      " 0   Respondent              11398 non-null  int64  \n",
      " 1   MainBranch              11398 non-null  object \n",
      " 2   Hobbyist                11398 non-null  object \n",
      " 3   OpenSourcer             11398 non-null  object \n",
      " 4   OpenSource              11317 non-null  object \n",
      " 5   Employment              11398 non-null  object \n",
      " 6   Country                 11398 non-null  object \n",
      " 7   Student                 11347 non-null  object \n",
      " 8   EdLevel                 11286 non-null  object \n",
      " 9   UndergradMajor          10661 non-null  object \n",
      " 10  EduOther                11234 non-null  object \n",
      " 11  OrgSize                 11302 non-null  object \n",
      " 12  DevType                 11333 non-null  object \n",
      " 13  YearsCode               11389 non-null  object \n",
      " 14  Age1stCode              11385 non-null  object \n",
      " 15  YearsCodePro            11382 non-null  object \n",
      " 16  CareerSat               11398 non-null  object \n",
      " 17  JobSat                  11397 non-null  object \n",
      " 18  MgrIdiot                10905 non-null  object \n",
      " 19  MgrMoney                10901 non-null  object \n",
      " 20  MgrWant                 10905 non-null  object \n",
      " 21  JobSeek                 11398 non-null  object \n",
      " 22  LastHireDate            11398 non-null  object \n",
      " 23  LastInt                 10985 non-null  object \n",
      " 24  FizzBuzz                11361 non-null  object \n",
      " 25  JobFactors              11395 non-null  object \n",
      " 26  ResumeUpdate            11359 non-null  object \n",
      " 27  CurrencySymbol          11398 non-null  object \n",
      " 28  CurrencyDesc            11398 non-null  object \n",
      " 29  CompTotal               10589 non-null  float64\n",
      " 30  CompFreq                11192 non-null  object \n",
      " 31  ConvertedComp           11398 non-null  float64\n",
      " 32  WorkWeekHrs             11276 non-null  float64\n",
      " 33  WorkPlan                11277 non-null  object \n",
      " 34  WorkChallenge           11234 non-null  object \n",
      " 35  WorkRemote              11390 non-null  object \n",
      " 36  WorkLoc                 11366 non-null  object \n",
      " 37  ImpSyn                  11393 non-null  object \n",
      " 38  CodeRev                 11397 non-null  object \n",
      " 39  CodeRevHrs              8972 non-null   float64\n",
      " 40  UnitTests               11369 non-null  object \n",
      " 41  PurchaseHow             11202 non-null  object \n",
      " 42  PurchaseWhat            11360 non-null  object \n",
      " 43  LanguageWorkedWith      11387 non-null  object \n",
      " 44  LanguageDesireNextYear  11264 non-null  object \n",
      " 45  DatabaseWorkedWith      10945 non-null  object \n",
      " 46  DatabaseDesireNextYear  10356 non-null  object \n",
      " 47  PlatformWorkedWith      10987 non-null  object \n",
      " 48  PlatformDesireNextYear  10854 non-null  object \n",
      " 49  WebFrameWorkedWith      10005 non-null  object \n",
      " 50  WebFrameDesireNextYear  9781 non-null   object \n",
      " 51  MiscTechWorkedWith      9216 non-null   object \n",
      " 52  MiscTechDesireNextYear  9943 non-null   object \n",
      " 53  DevEnviron              11369 non-null  object \n",
      " 54  OpSys                   11364 non-null  object \n",
      " 55  Containers              11316 non-null  object \n",
      " 56  BlockchainOrg           9076 non-null   object \n",
      " 57  BlockchainIs            8788 non-null   object \n",
      " 58  BetterLife              11300 non-null  object \n",
      " 59  ITperson                11363 non-null  object \n",
      " 60  OffOn                   11360 non-null  object \n",
      " 61  SocialMedia             11105 non-null  object \n",
      " 62  Extraversion            11378 non-null  object \n",
      " 63  ScreenName              10891 non-null  object \n",
      " 64  SOVisit1st              11073 non-null  object \n",
      " 65  SOVisitFreq             11393 non-null  object \n",
      " 66  SOVisitTo               11397 non-null  object \n",
      " 67  SOFindAnswer            11395 non-null  object \n",
      " 68  SOTimeSaved             11348 non-null  object \n",
      " 69  SOHowMuchTime           9481 non-null   object \n",
      " 70  SOAccount               11397 non-null  object \n",
      " 71  SOPartFreq              10270 non-null  object \n",
      " 72  SOJobs                  11392 non-null  object \n",
      " 73  EntTeams                11393 non-null  object \n",
      " 74  SOComm                  11398 non-null  object \n",
      " 75  WelcomeChange           11313 non-null  object \n",
      " 76  SONewContent            9433 non-null   object \n",
      " 77  Age                     11111 non-null  float64\n",
      " 78  Gender                  11325 non-null  object \n",
      " 79  Trans                   11275 non-null  object \n",
      " 80  Sexuality               10856 non-null  object \n",
      " 81  Ethnicity               10723 non-null  object \n",
      " 82  Dependents              11258 non-null  object \n",
      " 83  SurveyLength            11379 non-null  object \n",
      " 84  SurveyEase              11384 non-null  object \n",
      "dtypes: float64(5), int64(1), object(79)\n",
      "memory usage: 7.4+ MB\n"
     ]
    }
   ],
   "source": [
    "df.info()"
   ]
  },
  {
   "cell_type": "markdown",
   "metadata": {},
   "source": [
    "Plot the histogram for the column `ConvertedComp`.\n"
   ]
  },
  {
   "cell_type": "code",
   "execution_count": 9,
   "metadata": {},
   "outputs": [
    {
     "data": {
      "text/plain": [
       "Text(0.5, 0, 'Months (time)')"
      ]
     },
     "execution_count": 9,
     "metadata": {},
     "output_type": "execute_result"
    },
    {
     "data": {
      "image/png": "[encoded data removed]",
      "text/plain": [
       "<Figure size 720x576 with 1 Axes>"
      ]
     },
     "metadata": {
      "needs_background": "light"
     },
     "output_type": "display_data"
    }
   ],
   "source": [
    "# your code goes here\n",
    "import matplotlib.pyplot as plt\n",
    "import numpy as np\n",
    "%matplotlib inline\n",
    "\n",
    "\"\"\"\n",
    "#Use Formula to get number of bins\n",
    "q25, q75 = np.percentile(df['ConvertedComp'], [25, 75])\n",
    "bin_width = 2 * (q75 - q25) * len(df['Age']) ** (-1/3)\n",
    "\n",
    "#Use Formula to get number of bins\n",
    "bins = abs(round((df['Age'].max() - df['Age'].min()) / bin_width))\n",
    "\"\"\"\n",
    "\n",
    "plt.figure(figsize=(10, 8), edgecolor='blue')\n",
    "plt.hist(df['ConvertedComp'], density=True, bins=13)  # density=False would make counts\n",
    "plt.title('Converted Comp Distribution')\n",
    "plt.ylabel('Salaries (USD)')\n",
    "plt.xlabel('Months (time)')\n",
    "\n",
    "#histConComp = df.hist(column='ConvertedComp', bins=12, grid=False, figsize=(12,6), color='green', zorder=2, rwidth=0.9)\n"
   ]
  },
  {
   "cell_type": "markdown",
   "metadata": {},
   "source": [
    "What is the median of the column `ConvertedComp`?\n",
    "\n"
   ]
  },
  {
   "cell_type": "code",
   "execution_count": 10,
   "metadata": {},
   "outputs": [
    {
     "name": "stdout",
     "output_type": "stream",
     "text": [
      "Median of CONVERTEDCOMP Colunn is 57745.0\n"
     ]
    }
   ],
   "source": [
    "# your code goes here - Column MEDIAN\n",
    "print('Median of CONVERTEDCOMP Colunn is {}'.format(df['ConvertedComp'].median()))\n"
   ]
  },
  {
   "cell_type": "markdown",
   "metadata": {},
   "source": [
    "#### MEDIAN OF AGE COLUMN"
   ]
  },
  {
   "cell_type": "code",
   "execution_count": 11,
   "metadata": {},
   "outputs": [
    {
     "data": {
      "text/html": [
       "<div>\n",
       "<style scoped>\n",
       "    .dataframe tbody tr th:only-of-type {\n",
       "        vertical-align: middle;\n",
       "    }\n",
       "\n",
       "    .dataframe tbody tr th {\n",
       "        vertical-align: top;\n",
       "    }\n",
       "\n",
       "    .dataframe thead th {\n",
       "        text-align: right;\n",
       "    }\n",
       "</style>\n",
       "<table border=\"1\" class=\"dataframe\">\n",
       "  <thead>\n",
       "    <tr style=\"text-align: right;\">\n",
       "      <th></th>\n",
       "      <th>Respondent</th>\n",
       "      <th>CompTotal</th>\n",
       "      <th>ConvertedComp</th>\n",
       "      <th>WorkWeekHrs</th>\n",
       "      <th>CodeRevHrs</th>\n",
       "      <th>Age</th>\n",
       "    </tr>\n",
       "  </thead>\n",
       "  <tbody>\n",
       "    <tr>\n",
       "      <th>count</th>\n",
       "      <td>11398.000000</td>\n",
       "      <td>1.058900e+04</td>\n",
       "      <td>1.139800e+04</td>\n",
       "      <td>11276.000000</td>\n",
       "      <td>8972.000000</td>\n",
       "      <td>11111.000000</td>\n",
       "    </tr>\n",
       "    <tr>\n",
       "      <th>mean</th>\n",
       "      <td>12490.392437</td>\n",
       "      <td>7.570477e+05</td>\n",
       "      <td>1.263096e+05</td>\n",
       "      <td>42.064606</td>\n",
       "      <td>4.781071</td>\n",
       "      <td>30.778895</td>\n",
       "    </tr>\n",
       "    <tr>\n",
       "      <th>std</th>\n",
       "      <td>7235.461999</td>\n",
       "      <td>9.705598e+06</td>\n",
       "      <td>2.846750e+05</td>\n",
       "      <td>24.672741</td>\n",
       "      <td>4.567060</td>\n",
       "      <td>7.393686</td>\n",
       "    </tr>\n",
       "    <tr>\n",
       "      <th>min</th>\n",
       "      <td>4.000000</td>\n",
       "      <td>0.000000e+00</td>\n",
       "      <td>0.000000e+00</td>\n",
       "      <td>3.000000</td>\n",
       "      <td>0.000000</td>\n",
       "      <td>16.000000</td>\n",
       "    </tr>\n",
       "    <tr>\n",
       "      <th>25%</th>\n",
       "      <td>6264.250000</td>\n",
       "      <td>2.500000e+04</td>\n",
       "      <td>2.901600e+04</td>\n",
       "      <td>40.000000</td>\n",
       "      <td>2.000000</td>\n",
       "      <td>25.000000</td>\n",
       "    </tr>\n",
       "    <tr>\n",
       "      <th>50%</th>\n",
       "      <td>12484.000000</td>\n",
       "      <td>6.500000e+04</td>\n",
       "      <td>5.774500e+04</td>\n",
       "      <td>40.000000</td>\n",
       "      <td>4.000000</td>\n",
       "      <td>29.000000</td>\n",
       "    </tr>\n",
       "    <tr>\n",
       "      <th>75%</th>\n",
       "      <td>18784.750000</td>\n",
       "      <td>1.200000e+05</td>\n",
       "      <td>9.500000e+04</td>\n",
       "      <td>43.000000</td>\n",
       "      <td>5.000000</td>\n",
       "      <td>35.000000</td>\n",
       "    </tr>\n",
       "    <tr>\n",
       "      <th>max</th>\n",
       "      <td>25142.000000</td>\n",
       "      <td>7.000000e+08</td>\n",
       "      <td>2.000000e+06</td>\n",
       "      <td>1012.000000</td>\n",
       "      <td>99.000000</td>\n",
       "      <td>99.000000</td>\n",
       "    </tr>\n",
       "  </tbody>\n",
       "</table>\n",
       "</div>"
      ],
      "text/plain": [
       "         Respondent     CompTotal  ConvertedComp   WorkWeekHrs   CodeRevHrs  \\\n",
       "count  11398.000000  1.058900e+04   1.139800e+04  11276.000000  8972.000000   \n",
       "mean   12490.392437  7.570477e+05   1.263096e+05     42.064606     4.781071   \n",
       "std     7235.461999  9.705598e+06   2.846750e+05     24.672741     4.567060   \n",
       "min        4.000000  0.000000e+00   0.000000e+00      3.000000     0.000000   \n",
       "25%     6264.250000  2.500000e+04   2.901600e+04     40.000000     2.000000   \n",
       "50%    12484.000000  6.500000e+04   5.774500e+04     40.000000     4.000000   \n",
       "75%    18784.750000  1.200000e+05   9.500000e+04     43.000000     5.000000   \n",
       "max    25142.000000  7.000000e+08   2.000000e+06   1012.000000    99.000000   \n",
       "\n",
       "                Age  \n",
       "count  11111.000000  \n",
       "mean      30.778895  \n",
       "std        7.393686  \n",
       "min       16.000000  \n",
       "25%       25.000000  \n",
       "50%       29.000000  \n",
       "75%       35.000000  \n",
       "max       99.000000  "
      ]
     },
     "execution_count": 11,
     "metadata": {},
     "output_type": "execute_result"
    }
   ],
   "source": [
    "#df['Age'].min()\n",
    "df.describe()"
   ]
  },
  {
   "cell_type": "code",
   "execution_count": 12,
   "metadata": {},
   "outputs": [],
   "source": [
    "#  Replacing nan values in AGE Column\n",
    "\n",
    "meanAge = df['Age'].mean()\n",
    "\n",
    "\"\"\"\n",
    "df['ConvertedComp'].replace(np.NaN, median)\n",
    "\"\"\"\n",
    "\n",
    "df['Age'] = df['Age'].fillna(meanAge)"
   ]
  },
  {
   "cell_type": "code",
   "execution_count": 13,
   "metadata": {},
   "outputs": [
    {
     "data": {
      "text/plain": [
       "0"
      ]
     },
     "execution_count": 13,
     "metadata": {},
     "output_type": "execute_result"
    }
   ],
   "source": [
    "df['Age'].isna().sum()"
   ]
  },
  {
   "cell_type": "code",
   "execution_count": 14,
   "metadata": {},
   "outputs": [
    {
     "name": "stdout",
     "output_type": "stream",
     "text": [
      "Median of AGE Colunn is 29.0\n"
     ]
    }
   ],
   "source": [
    "# your code goes here - Column AGE - Median value\n",
    "print('Median of AGE Colunn is {}'.format(df['Age'].median()))\n"
   ]
  },
  {
   "cell_type": "markdown",
   "metadata": {},
   "source": [
    "How many responders identified themselves only as a **Man**?\n"
   ]
  },
  {
   "cell_type": "code",
   "execution_count": 15,
   "metadata": {},
   "outputs": [
    {
     "name": "stdout",
     "output_type": "stream",
     "text": [
      "Number of Only Man/Male Responders is Man                                                            10480\n",
      "Woman                                                            731\n",
      "Non-binary, genderqueer, or gender non-conforming                 63\n",
      "Man;Non-binary, genderqueer, or gender non-conforming             26\n",
      "Woman;Non-binary, genderqueer, or gender non-conforming           14\n",
      "Woman;Man                                                          9\n",
      "Woman;Man;Non-binary, genderqueer, or gender non-conforming        2\n",
      "Name: Gender, dtype: int64\n"
     ]
    }
   ],
   "source": [
    "# your code goes here\n",
    "\n",
    "\"\"\"\n",
    "NumMale = sum(df['Gender'] == \"Man\")\n",
    "#print(\"Number of Man Responders is'.format(NumMale)\n",
    "NumMale      \n",
    "\"\"\"\n",
    "NumMResp = df['Gender'].value_counts()   #number of unique WorkLoc values\n",
    "NumMResp\n",
    "\n",
    "print('Number of Only Man/Male Responders is {}'.format(NumMResp))"
   ]
  },
  {
   "cell_type": "code",
   "execution_count": 16,
   "metadata": {},
   "outputs": [
    {
     "name": "stdout",
     "output_type": "stream",
     "text": [
      "Number of Only Man/Male Responders is 10480\n"
     ]
    }
   ],
   "source": [
    "# your code goes here\n",
    "\n",
    "\"\"\"\n",
    "NumMale = sum(df['Gender'] == \"Man\")\n",
    "#print(\"Number of Man Responders is'.format(NumMale)\n",
    "NumMale      \n",
    "\"\"\"\n",
    "NumMResp = df['Gender'].value_counts()[0]   #number of unique WorkLoc values\n",
    "NumMResp\n",
    "\n",
    "print('Number of Only Man/Male Responders is {}'.format(NumMResp))"
   ]
  },
  {
   "cell_type": "markdown",
   "metadata": {},
   "source": [
    "Find out the  median ConvertedComp of responders identified themselves only as a **Woman**?\n"
   ]
  },
  {
   "cell_type": "code",
   "execution_count": 17,
   "metadata": {},
   "outputs": [
    {
     "data": {
      "text/plain": [
       "\"NumWom = df['Gender'].value_counts()[1] + df['Gender'].value_counts()[4] + df['Gender'].value_counts()[5]+df['Gender'].value_counts()[6]   #NumMResp[1]+NumMResp[4]+NumMResp[5]+NumMResp[6]\\nNumWom\""
      ]
     },
     "execution_count": 17,
     "metadata": {},
     "output_type": "execute_result"
    }
   ],
   "source": [
    "\"\"\"NumWom = df['Gender'].value_counts()[1] + df['Gender'].value_counts()[4] + df['Gender'].value_counts()[5]+df['Gender'].value_counts()[6]   #NumMResp[1]+NumMResp[4]+NumMResp[5]+NumMResp[6]\n",
    "NumWom\"\"\""
   ]
  },
  {
   "cell_type": "code",
   "execution_count": 18,
   "metadata": {
    "tags": []
   },
   "outputs": [
    {
     "data": {
      "text/html": [
       "<div>\n",
       "<style scoped>\n",
       "    .dataframe tbody tr th:only-of-type {\n",
       "        vertical-align: middle;\n",
       "    }\n",
       "\n",
       "    .dataframe tbody tr th {\n",
       "        vertical-align: top;\n",
       "    }\n",
       "\n",
       "    .dataframe thead th {\n",
       "        text-align: right;\n",
       "    }\n",
       "</style>\n",
       "<table border=\"1\" class=\"dataframe\">\n",
       "  <thead>\n",
       "    <tr style=\"text-align: right;\">\n",
       "      <th></th>\n",
       "      <th>Gender</th>\n",
       "      <th>ConvertedComp</th>\n",
       "    </tr>\n",
       "  </thead>\n",
       "  <tbody>\n",
       "    <tr>\n",
       "      <th>0</th>\n",
       "      <td>Man</td>\n",
       "      <td>57745.0</td>\n",
       "    </tr>\n",
       "    <tr>\n",
       "      <th>1</th>\n",
       "      <td>Man;Non-binary, genderqueer, or gender non-con...</td>\n",
       "      <td>59520.0</td>\n",
       "    </tr>\n",
       "    <tr>\n",
       "      <th>2</th>\n",
       "      <td>Non-binary, genderqueer, or gender non-conforming</td>\n",
       "      <td>66000.0</td>\n",
       "    </tr>\n",
       "    <tr>\n",
       "      <th>3</th>\n",
       "      <td>Woman</td>\n",
       "      <td>57745.0</td>\n",
       "    </tr>\n",
       "    <tr>\n",
       "      <th>4</th>\n",
       "      <td>Woman;Man</td>\n",
       "      <td>25887.0</td>\n",
       "    </tr>\n",
       "    <tr>\n",
       "      <th>5</th>\n",
       "      <td>Woman;Man;Non-binary, genderqueer, or gender n...</td>\n",
       "      <td>30244.0</td>\n",
       "    </tr>\n",
       "    <tr>\n",
       "      <th>6</th>\n",
       "      <td>Woman;Non-binary, genderqueer, or gender non-c...</td>\n",
       "      <td>65535.5</td>\n",
       "    </tr>\n",
       "  </tbody>\n",
       "</table>\n",
       "</div>"
      ],
      "text/plain": [
       "                                              Gender  ConvertedComp\n",
       "0                                                Man        57745.0\n",
       "1  Man;Non-binary, genderqueer, or gender non-con...        59520.0\n",
       "2  Non-binary, genderqueer, or gender non-conforming        66000.0\n",
       "3                                              Woman        57745.0\n",
       "4                                          Woman;Man        25887.0\n",
       "5  Woman;Man;Non-binary, genderqueer, or gender n...        30244.0\n",
       "6  Woman;Non-binary, genderqueer, or gender non-c...        65535.5"
      ]
     },
     "execution_count": 18,
     "metadata": {},
     "output_type": "execute_result"
    }
   ],
   "source": [
    "ConWomResp = df[['ConvertedComp', 'Gender']].groupby(['Gender'], as_index=False).median()\n",
    "ConWomResp"
   ]
  },
  {
   "cell_type": "code",
   "execution_count": 19,
   "metadata": {},
   "outputs": [
    {
     "data": {
      "text/html": [
       "<div>\n",
       "<style scoped>\n",
       "    .dataframe tbody tr th:only-of-type {\n",
       "        vertical-align: middle;\n",
       "    }\n",
       "\n",
       "    .dataframe tbody tr th {\n",
       "        vertical-align: top;\n",
       "    }\n",
       "\n",
       "    .dataframe thead th {\n",
       "        text-align: right;\n",
       "    }\n",
       "</style>\n",
       "<table border=\"1\" class=\"dataframe\">\n",
       "  <thead>\n",
       "    <tr style=\"text-align: right;\">\n",
       "      <th></th>\n",
       "      <th>Gender</th>\n",
       "      <th>ConvertedComp</th>\n",
       "    </tr>\n",
       "  </thead>\n",
       "  <tbody>\n",
       "    <tr>\n",
       "      <th>3</th>\n",
       "      <td>Woman</td>\n",
       "      <td>57745.0</td>\n",
       "    </tr>\n",
       "  </tbody>\n",
       "</table>\n",
       "</div>"
      ],
      "text/plain": [
       "  Gender  ConvertedComp\n",
       "3  Woman        57745.0"
      ]
     },
     "execution_count": 19,
     "metadata": {},
     "output_type": "execute_result"
    }
   ],
   "source": [
    "ConWomResp[ConWomResp['Gender']=='Woman']"
   ]
  },
  {
   "cell_type": "code",
   "execution_count": 21,
   "metadata": {},
   "outputs": [
    {
     "data": {
      "text/plain": [
       "\"\\nfemCnt = np.median(np.sum(df['Gender'] == 'Woman'))\\nfemCnt\\nprint('Number of Woman/Female Responders is {}'.format(femCnt))\\n\""
      ]
     },
     "execution_count": 21,
     "metadata": {},
     "output_type": "execute_result"
    }
   ],
   "source": [
    "# your code goes here  - TO DELETE\n",
    "\"\"\"\n",
    "femCnt = np.median(np.sum(df['Gender'] == 'Woman'))\n",
    "femCnt\n",
    "print('Number of Woman/Female Responders is {}'.format(femCnt))\n",
    "\"\"\""
   ]
  },
  {
   "cell_type": "markdown",
   "metadata": {},
   "source": [
    "### Give the five number summary for the column `Age`?\n"
   ]
  },
  {
   "cell_type": "markdown",
   "metadata": {},
   "source": [
    "**Double click here for hint**.\n",
    "\n",
    "<!--\n",
    "min,q1,median,q3,max of a column are its five number summary.\n",
    "-->\n"
   ]
  },
  {
   "cell_type": "code",
   "execution_count": 22,
   "metadata": {},
   "outputs": [
    {
     "name": "stdout",
     "output_type": "stream",
     "text": [
      "Min: 16.000\n",
      "Q1: 26.000\n",
      "Median: 29.000\n",
      "Q3: 34.000\n",
      "Max: 99.000\n"
     ]
    }
   ],
   "source": [
    "# your code goes here - https://machinelearningmastery.com/how-to-calculate-the-5-number-summary-for-your-data-in-python/\n",
    "\n",
    "df['Age'].describe()\n",
    "\n",
    "from numpy import percentile\n",
    "\n",
    "quartiles = percentile(df['Age'], [25, 50, 75])     #Quartiles\n",
    "\n",
    "Age_min, Age_max = df['Age'].min(), df['Age'].max()     #Min/Max\n",
    "\n",
    "# print Summaries\n",
    "print('Min: %.3f' % Age_min)\n",
    "print('Q1: %.3f' % quartiles[0])\n",
    "print('Median: %.3f' % quartiles[1])\n",
    "print('Q3: %.3f' % quartiles[2])\n",
    "print('Max: %.3f' % Age_max)"
   ]
  },
  {
   "cell_type": "markdown",
   "metadata": {},
   "source": [
    "Plot a histogram of the column `Age`.\n"
   ]
  },
  {
   "cell_type": "code",
   "execution_count": 24,
   "metadata": {},
   "outputs": [
    {
     "data": {
      "text/plain": [
       "Text(0.5, 0, 'Age')"
      ]
     },
     "execution_count": 24,
     "metadata": {},
     "output_type": "execute_result"
    },
    {
     "data": {
      "image/png": "[encoded data removed]",
      "text/plain": [
       "<Figure size 720x576 with 1 Axes>"
      ]
     },
     "metadata": {
      "needs_background": "light"
     },
     "output_type": "display_data"
    }
   ],
   "source": [
    "# your code goes here\n",
    "\n",
    "\"\"\"\n",
    "#Use Formula to get number of bins\n",
    "q25, q75 = np.percentile(df['Age'], [25, 75])\n",
    "bin_width = 2 * (q75 - q25) * len(df['Age']) ** (-1/3)\n",
    "\n",
    "#Use Formula to get number of bins\n",
    "bins = round((df['Age'].max() - df['Age'].min()) / bin_width)\n",
    "\n",
    "print(\"One Possible Number of Bins:\", bins)\n",
    "#plt.hist(x, bins=bins);\n",
    "\n",
    "plt.hist(df['Age'], density=True, bins=bins)  # density=False would make counts\n",
    "plt.ylabe\n",
    "l('Probability')\n",
    "plt.xlabel('Data');\n",
    "\n",
    "q25, q75 = np.percentile(df['Age'], [25, 75])\n",
    "bin_width = 2 * (q75 - q25) * len(df['Age']) ** (-1/3)\n",
    "bins = round((df['Age'].max() - df['Age'].min()) / bin_width)\n",
    "print(\"Freedman–Diaconis number of bins:\", bins)\n",
    "plt.hist(df['Age'], bins=bins);\n",
    "\"\"\"\n",
    "\n",
    "#plt.figure(figsize=(10, 8), edgecolor='blue')\n",
    "\n",
    "bin_width=8\n",
    "bins = round((df['Age'].max() - df['Age'].min()) / bin_width)\n",
    "histAge = df.hist(column='Age', bins=bins, grid=False, figsize=(10,8), color='blue', edgecolor='grey', zorder=2, rwidth=0.9)\n",
    "plt.title('Age Distribution')\n",
    "plt.ylabel('Age Freq')\n",
    "plt.xlabel('Age')\n"
   ]
  },
  {
   "cell_type": "code",
   "execution_count": 25,
   "metadata": {},
   "outputs": [
    {
     "ename": "AttributeError",
     "evalue": "'Rectangle' object has no property 'labels'",
     "output_type": "error",
     "traceback": [
      "\u001b[0;31m---------------------------------------------------------------------------\u001b[0m",
      "\u001b[0;31mAttributeError\u001b[0m                            Traceback (most recent call last)",
      "\u001b[0;32m/tmp/ipykernel_3136/1545890858.py\u001b[0m in \u001b[0;36m<module>\u001b[0;34m\u001b[0m\n\u001b[1;32m      7\u001b[0m \u001b[0mdf\u001b[0m\u001b[0;34m[\u001b[0m\u001b[0;34m'AgeX'\u001b[0m\u001b[0;34m]\u001b[0m \u001b[0;34m=\u001b[0m \u001b[0mpd\u001b[0m\u001b[0;34m.\u001b[0m\u001b[0mcut\u001b[0m\u001b[0;34m(\u001b[0m\u001b[0mdf\u001b[0m\u001b[0;34m[\u001b[0m\u001b[0;34m'Age'\u001b[0m\u001b[0;34m]\u001b[0m\u001b[0;34m,\u001b[0m \u001b[0mbins\u001b[0m\u001b[0;34m,\u001b[0m \u001b[0mlabels\u001b[0m\u001b[0;34m=\u001b[0m\u001b[0mgroup_names\u001b[0m\u001b[0;34m,\u001b[0m \u001b[0minclude_lowest\u001b[0m \u001b[0;34m=\u001b[0m \u001b[0;32mTrue\u001b[0m\u001b[0;34m)\u001b[0m   \u001b[0;31m#, duplicate='drop')\u001b[0m\u001b[0;34m\u001b[0m\u001b[0;34m\u001b[0m\u001b[0m\n\u001b[1;32m      8\u001b[0m \u001b[0;34m\u001b[0m\u001b[0m\n\u001b[0;32m----> 9\u001b[0;31m \u001b[0mhistAge\u001b[0m \u001b[0;34m=\u001b[0m \u001b[0mdf\u001b[0m\u001b[0;34m.\u001b[0m\u001b[0mhist\u001b[0m\u001b[0;34m(\u001b[0m\u001b[0mbins\u001b[0m\u001b[0;34m=\u001b[0m\u001b[0mbins\u001b[0m\u001b[0;34m,\u001b[0m \u001b[0mlabels\u001b[0m\u001b[0;34m=\u001b[0m\u001b[0mgroup_names\u001b[0m\u001b[0;34m,\u001b[0m \u001b[0mgrid\u001b[0m\u001b[0;34m=\u001b[0m\u001b[0;32mFalse\u001b[0m\u001b[0;34m,\u001b[0m \u001b[0mfigsize\u001b[0m\u001b[0;34m=\u001b[0m\u001b[0;34m(\u001b[0m\u001b[0;36m10\u001b[0m\u001b[0;34m,\u001b[0m\u001b[0;36m6\u001b[0m\u001b[0;34m)\u001b[0m\u001b[0;34m,\u001b[0m \u001b[0mcolor\u001b[0m\u001b[0;34m=\u001b[0m\u001b[0;34m'blue'\u001b[0m\u001b[0;34m,\u001b[0m \u001b[0mzorder\u001b[0m\u001b[0;34m=\u001b[0m\u001b[0;36m2\u001b[0m\u001b[0;34m,\u001b[0m \u001b[0mrwidth\u001b[0m\u001b[0;34m=\u001b[0m\u001b[0;36m0.9\u001b[0m\u001b[0;34m)\u001b[0m   \u001b[0;31m#, data=df['AgeX'])\u001b[0m\u001b[0;34m\u001b[0m\u001b[0;34m\u001b[0m\u001b[0m\n\u001b[0m\u001b[1;32m     10\u001b[0m \u001b[0;34m\u001b[0m\u001b[0m\n\u001b[1;32m     11\u001b[0m \u001b[0;31m#histAge = df.hist(bins=bins, labels=group_names, grid=False, figsize=(10,6), color='blue', zorder=2, rwidth=0.9)   #, data=df['AgeX'])\u001b[0m\u001b[0;34m\u001b[0m\u001b[0;34m\u001b[0m\u001b[0;34m\u001b[0m\u001b[0m\n",
      "\u001b[0;32m~/conda/envs/python/lib/python3.7/site-packages/pandas/plotting/_core.py\u001b[0m in \u001b[0;36mhist_frame\u001b[0;34m(data, column, by, grid, xlabelsize, xrot, ylabelsize, yrot, ax, sharex, sharey, figsize, layout, bins, backend, legend, **kwargs)\u001b[0m\n\u001b[1;32m    240\u001b[0m         \u001b[0mlegend\u001b[0m\u001b[0;34m=\u001b[0m\u001b[0mlegend\u001b[0m\u001b[0;34m,\u001b[0m\u001b[0;34m\u001b[0m\u001b[0;34m\u001b[0m\u001b[0m\n\u001b[1;32m    241\u001b[0m         \u001b[0mbins\u001b[0m\u001b[0;34m=\u001b[0m\u001b[0mbins\u001b[0m\u001b[0;34m,\u001b[0m\u001b[0;34m\u001b[0m\u001b[0;34m\u001b[0m\u001b[0m\n\u001b[0;32m--> 242\u001b[0;31m         \u001b[0;34m**\u001b[0m\u001b[0mkwargs\u001b[0m\u001b[0;34m,\u001b[0m\u001b[0;34m\u001b[0m\u001b[0;34m\u001b[0m\u001b[0m\n\u001b[0m\u001b[1;32m    243\u001b[0m     )\n\u001b[1;32m    244\u001b[0m \u001b[0;34m\u001b[0m\u001b[0m\n",
      "\u001b[0;32m~/conda/envs/python/lib/python3.7/site-packages/pandas/plotting/_matplotlib/hist.py\u001b[0m in \u001b[0;36mhist_frame\u001b[0;34m(data, column, by, grid, xlabelsize, xrot, ylabelsize, yrot, ax, sharex, sharey, figsize, layout, bins, legend, **kwds)\u001b[0m\n\u001b[1;32m    462\u001b[0m         \u001b[0;32mif\u001b[0m \u001b[0mlegend\u001b[0m \u001b[0;32mand\u001b[0m \u001b[0mcan_set_label\u001b[0m\u001b[0;34m:\u001b[0m\u001b[0;34m\u001b[0m\u001b[0;34m\u001b[0m\u001b[0m\n\u001b[1;32m    463\u001b[0m             \u001b[0mkwds\u001b[0m\u001b[0;34m[\u001b[0m\u001b[0;34m\"label\"\u001b[0m\u001b[0;34m]\u001b[0m \u001b[0;34m=\u001b[0m \u001b[0mcol\u001b[0m\u001b[0;34m\u001b[0m\u001b[0;34m\u001b[0m\u001b[0m\n\u001b[0;32m--> 464\u001b[0;31m         \u001b[0max\u001b[0m\u001b[0;34m.\u001b[0m\u001b[0mhist\u001b[0m\u001b[0;34m(\u001b[0m\u001b[0mdata\u001b[0m\u001b[0;34m[\u001b[0m\u001b[0mcol\u001b[0m\u001b[0;34m]\u001b[0m\u001b[0;34m.\u001b[0m\u001b[0mdropna\u001b[0m\u001b[0;34m(\u001b[0m\u001b[0;34m)\u001b[0m\u001b[0;34m.\u001b[0m\u001b[0mvalues\u001b[0m\u001b[0;34m,\u001b[0m \u001b[0mbins\u001b[0m\u001b[0;34m=\u001b[0m\u001b[0mbins\u001b[0m\u001b[0;34m,\u001b[0m \u001b[0;34m**\u001b[0m\u001b[0mkwds\u001b[0m\u001b[0;34m)\u001b[0m\u001b[0;34m\u001b[0m\u001b[0;34m\u001b[0m\u001b[0m\n\u001b[0m\u001b[1;32m    465\u001b[0m         \u001b[0max\u001b[0m\u001b[0;34m.\u001b[0m\u001b[0mset_title\u001b[0m\u001b[0;34m(\u001b[0m\u001b[0mcol\u001b[0m\u001b[0;34m)\u001b[0m\u001b[0;34m\u001b[0m\u001b[0;34m\u001b[0m\u001b[0m\n\u001b[1;32m    466\u001b[0m         \u001b[0max\u001b[0m\u001b[0;34m.\u001b[0m\u001b[0mgrid\u001b[0m\u001b[0;34m(\u001b[0m\u001b[0mgrid\u001b[0m\u001b[0;34m)\u001b[0m\u001b[0;34m\u001b[0m\u001b[0;34m\u001b[0m\u001b[0m\n",
      "\u001b[0;32m~/conda/envs/python/lib/python3.7/site-packages/matplotlib/__init__.py\u001b[0m in \u001b[0;36minner\u001b[0;34m(ax, data, *args, **kwargs)\u001b[0m\n\u001b[1;32m   1410\u001b[0m     \u001b[0;32mdef\u001b[0m \u001b[0minner\u001b[0m\u001b[0;34m(\u001b[0m\u001b[0max\u001b[0m\u001b[0;34m,\u001b[0m \u001b[0;34m*\u001b[0m\u001b[0margs\u001b[0m\u001b[0;34m,\u001b[0m \u001b[0mdata\u001b[0m\u001b[0;34m=\u001b[0m\u001b[0;32mNone\u001b[0m\u001b[0;34m,\u001b[0m \u001b[0;34m**\u001b[0m\u001b[0mkwargs\u001b[0m\u001b[0;34m)\u001b[0m\u001b[0;34m:\u001b[0m\u001b[0;34m\u001b[0m\u001b[0;34m\u001b[0m\u001b[0m\n\u001b[1;32m   1411\u001b[0m         \u001b[0;32mif\u001b[0m \u001b[0mdata\u001b[0m \u001b[0;32mis\u001b[0m \u001b[0;32mNone\u001b[0m\u001b[0;34m:\u001b[0m\u001b[0;34m\u001b[0m\u001b[0;34m\u001b[0m\u001b[0m\n\u001b[0;32m-> 1412\u001b[0;31m             \u001b[0;32mreturn\u001b[0m \u001b[0mfunc\u001b[0m\u001b[0;34m(\u001b[0m\u001b[0max\u001b[0m\u001b[0;34m,\u001b[0m \u001b[0;34m*\u001b[0m\u001b[0mmap\u001b[0m\u001b[0;34m(\u001b[0m\u001b[0msanitize_sequence\u001b[0m\u001b[0;34m,\u001b[0m \u001b[0margs\u001b[0m\u001b[0;34m)\u001b[0m\u001b[0;34m,\u001b[0m \u001b[0;34m**\u001b[0m\u001b[0mkwargs\u001b[0m\u001b[0;34m)\u001b[0m\u001b[0;34m\u001b[0m\u001b[0;34m\u001b[0m\u001b[0m\n\u001b[0m\u001b[1;32m   1413\u001b[0m \u001b[0;34m\u001b[0m\u001b[0m\n\u001b[1;32m   1414\u001b[0m         \u001b[0mbound\u001b[0m \u001b[0;34m=\u001b[0m \u001b[0mnew_sig\u001b[0m\u001b[0;34m.\u001b[0m\u001b[0mbind\u001b[0m\u001b[0;34m(\u001b[0m\u001b[0max\u001b[0m\u001b[0;34m,\u001b[0m \u001b[0;34m*\u001b[0m\u001b[0margs\u001b[0m\u001b[0;34m,\u001b[0m \u001b[0;34m**\u001b[0m\u001b[0mkwargs\u001b[0m\u001b[0;34m)\u001b[0m\u001b[0;34m\u001b[0m\u001b[0;34m\u001b[0m\u001b[0m\n",
      "\u001b[0;32m~/conda/envs/python/lib/python3.7/site-packages/matplotlib/axes/_axes.py\u001b[0m in \u001b[0;36mhist\u001b[0;34m(self, x, bins, range, density, weights, cumulative, bottom, histtype, align, orientation, rwidth, log, color, label, stacked, **kwargs)\u001b[0m\n\u001b[1;32m   6785\u001b[0m             \u001b[0;32mif\u001b[0m \u001b[0mpatch\u001b[0m\u001b[0;34m:\u001b[0m\u001b[0;34m\u001b[0m\u001b[0;34m\u001b[0m\u001b[0m\n\u001b[1;32m   6786\u001b[0m                 \u001b[0mp\u001b[0m \u001b[0;34m=\u001b[0m \u001b[0mpatch\u001b[0m\u001b[0;34m[\u001b[0m\u001b[0;36m0\u001b[0m\u001b[0;34m]\u001b[0m\u001b[0;34m\u001b[0m\u001b[0;34m\u001b[0m\u001b[0m\n\u001b[0;32m-> 6787\u001b[0;31m                 \u001b[0mp\u001b[0m\u001b[0;34m.\u001b[0m\u001b[0mupdate\u001b[0m\u001b[0;34m(\u001b[0m\u001b[0mkwargs\u001b[0m\u001b[0;34m)\u001b[0m\u001b[0;34m\u001b[0m\u001b[0;34m\u001b[0m\u001b[0m\n\u001b[0m\u001b[1;32m   6788\u001b[0m                 \u001b[0;32mif\u001b[0m \u001b[0mlbl\u001b[0m \u001b[0;32mis\u001b[0m \u001b[0;32mnot\u001b[0m \u001b[0;32mNone\u001b[0m\u001b[0;34m:\u001b[0m\u001b[0;34m\u001b[0m\u001b[0;34m\u001b[0m\u001b[0m\n\u001b[1;32m   6789\u001b[0m                     \u001b[0mp\u001b[0m\u001b[0;34m.\u001b[0m\u001b[0mset_label\u001b[0m\u001b[0;34m(\u001b[0m\u001b[0mlbl\u001b[0m\u001b[0;34m)\u001b[0m\u001b[0;34m\u001b[0m\u001b[0;34m\u001b[0m\u001b[0m\n",
      "\u001b[0;32m~/conda/envs/python/lib/python3.7/site-packages/matplotlib/artist.py\u001b[0m in \u001b[0;36mupdate\u001b[0;34m(self, props)\u001b[0m\n\u001b[1;32m   1062\u001b[0m                     \u001b[0mfunc\u001b[0m \u001b[0;34m=\u001b[0m \u001b[0mgetattr\u001b[0m\u001b[0;34m(\u001b[0m\u001b[0mself\u001b[0m\u001b[0;34m,\u001b[0m \u001b[0;34mf\"set_{k}\"\u001b[0m\u001b[0;34m,\u001b[0m \u001b[0;32mNone\u001b[0m\u001b[0;34m)\u001b[0m\u001b[0;34m\u001b[0m\u001b[0;34m\u001b[0m\u001b[0m\n\u001b[1;32m   1063\u001b[0m                     \u001b[0;32mif\u001b[0m \u001b[0;32mnot\u001b[0m \u001b[0mcallable\u001b[0m\u001b[0;34m(\u001b[0m\u001b[0mfunc\u001b[0m\u001b[0;34m)\u001b[0m\u001b[0;34m:\u001b[0m\u001b[0;34m\u001b[0m\u001b[0;34m\u001b[0m\u001b[0m\n\u001b[0;32m-> 1064\u001b[0;31m                         raise AttributeError(f\"{type(self).__name__!r} object \"\n\u001b[0m\u001b[1;32m   1065\u001b[0m                                              f\"has no property {k!r}\")\n\u001b[1;32m   1066\u001b[0m                     \u001b[0mret\u001b[0m\u001b[0;34m.\u001b[0m\u001b[0mappend\u001b[0m\u001b[0;34m(\u001b[0m\u001b[0mfunc\u001b[0m\u001b[0;34m(\u001b[0m\u001b[0mv\u001b[0m\u001b[0;34m)\u001b[0m\u001b[0;34m)\u001b[0m\u001b[0;34m\u001b[0m\u001b[0;34m\u001b[0m\u001b[0m\n",
      "\u001b[0;31mAttributeError\u001b[0m: 'Rectangle' object has no property 'labels'"
     ]
    },
    {
     "data": {
      "image/png": "[encoded data removed]",
      "text/plain": [
       "<Figure size 720x432 with 6 Axes>"
      ]
     },
     "metadata": {
      "needs_background": "light"
     },
     "output_type": "display_data"
    }
   ],
   "source": [
    "# your code goes here\n",
    "\n",
    "bins = np.linspace(min(df['Age']), max(df['Age']), 11)   #div into 10 bins\n",
    "\n",
    "group_names=['16-24', '24-32', '32-40', '40-48', '48-56', '56-64', '64-72', '72-80', '80-88', '88-96']\n",
    "\n",
    "df['AgeX'] = pd.cut(df['Age'], bins, labels=group_names, include_lowest = True)   #, duplicate='drop')\n",
    "\n",
    "histAge = df.hist(bins=bins, labels=group_names, grid=False, figsize=(10,6), color='blue', zorder=2, rwidth=0.9)   #, data=df['AgeX'])\n",
    "\n",
    "#histAge = df.hist(bins=bins, labels=group_names, grid=False, figsize=(10,6), color='blue', zorder=2, rwidth=0.9)   #, data=df['AgeX'])\n"
   ]
  },
  {
   "cell_type": "code",
   "execution_count": 23,
   "metadata": {},
   "outputs": [],
   "source": [
    "#df['Age'].dtype"
   ]
  },
  {
   "cell_type": "markdown",
   "metadata": {},
   "source": [
    "## Outliers\n"
   ]
  },
  {
   "cell_type": "markdown",
   "metadata": {},
   "source": [
    "### Finding outliers\n"
   ]
  },
  {
   "cell_type": "markdown",
   "metadata": {},
   "source": [
    "Find out if outliers exist in the column `ConvertedComp` using a box plot?\n"
   ]
  },
  {
   "cell_type": "code",
   "execution_count": 26,
   "metadata": {},
   "outputs": [
    {
     "data": {
      "text/plain": [
       "0"
      ]
     },
     "execution_count": 26,
     "metadata": {},
     "output_type": "execute_result"
    }
   ],
   "source": [
    "# Examining for Null values\n",
    "NumMResp = df['ConvertedComp'].isnull().sum()   #value_counts()   #number of unique WorkLoc values\n",
    "NumMResp\n"
   ]
  },
  {
   "cell_type": "code",
   "execution_count": 27,
   "metadata": {},
   "outputs": [
    {
     "data": {
      "text/plain": [
       "Text(0.5, 0, 'ConvertedComp')"
      ]
     },
     "execution_count": 27,
     "metadata": {},
     "output_type": "execute_result"
    },
    {
     "data": {
      "image/png": "[encoded data removed]",
      "text/plain": [
       "<Figure size 1152x432 with 1 Axes>"
      ]
     },
     "metadata": {
      "needs_background": "light"
     },
     "output_type": "display_data"
    }
   ],
   "source": [
    "# your code goes \n",
    "plt.figure(figsize = (16, 6))\n",
    "#figure_name = plt.figure(figsize=(width, height))\n",
    "plt.boxplot(x=df['ConvertedComp'], vert=False)\n",
    "plt.title('Outliers for ConvertedComp using Boxplot')\n",
    "plt.xlabel('ConvertedComp')\n"
   ]
  },
  {
   "cell_type": "markdown",
   "metadata": {},
   "source": [
    "#Find out the Inter Quartile Range for the column `ConvertedComp`.\n"
   ]
  },
  {
   "cell_type": "code",
   "execution_count": 28,
   "metadata": {},
   "outputs": [
    {
     "name": "stdout",
     "output_type": "stream",
     "text": [
      "Inter-quartile range for ConvertedComp column: 65984.0\n"
     ]
    }
   ],
   "source": [
    "# your code goes here\n",
    "q3, q1 = np.percentile(df['ConvertedComp'], [75 ,25])\n",
    "IQR = q3 - q1\n",
    "\n",
    "print('Inter-quartile range for ConvertedComp column: {}'.format(IQR))"
   ]
  },
  {
   "cell_type": "markdown",
   "metadata": {},
   "source": [
    "Find out the upper and lower bounds.\n"
   ]
  },
  {
   "cell_type": "code",
   "execution_count": 29,
   "metadata": {},
   "outputs": [
    {
     "name": "stdout",
     "output_type": "stream",
     "text": [
      "Upper bounds is 193976.0\n",
      "Lower bounds is -69960.0\n"
     ]
    }
   ],
   "source": [
    "# your code goes here\n",
    "\n",
    "\"\"\"\n",
    "print('Uppewr bounds is {}'.format(df['ConvertedComp'] >= (q3 + 1.5*IQR)))\n",
    "print('Lower bounds is {}'.format(df['ConvertedComp'] >= (q3 - 1.5*IQR)))\n",
    "\"\"\"\n",
    "uppBounds = print('Upper bounds is {}'.format(q3 + 1.5*IQR))\n",
    "uppBounds   #print('(Upper Bounds is: \" + str(upBounds))\n",
    "\n",
    "lowBounds = print('Lower bounds is {}'.format(q1 - 1.5*IQR))\n",
    "lowBounds   #print('(Lower Bounds is: \" + str(lowBounds))"
   ]
  },
  {
   "cell_type": "markdown",
   "metadata": {},
   "source": [
    "Identify how many outliers are there in the `ConvertedComp` column.\n"
   ]
  },
  {
   "cell_type": "code",
   "execution_count": 30,
   "metadata": {},
   "outputs": [
    {
     "name": "stdout",
     "output_type": "stream",
     "text": [
      "Number of Outliers below Q1 is 0\n",
      "Numberr of Outliers above Q3 is 933\n",
      "Total Outliers are 933\n"
     ]
    }
   ],
   "source": [
    "# your code goes here\n",
    "\n",
    "\"\"\"\n",
    "amtOutlier = ((df['ConvertedComp'] < (q1 - 1.5 * IQR)) | (df['ConvertedComp'] > (q3 + 1.5 * IQR))).sum() \n",
    "amtOutlier\n",
    "#https://stackoverflow.com/questions/39068214/how-to-count-outliers-for-all-columns-in-pyth\"\n",
    "\"\"\"\n",
    "\n",
    "lowSum = (df['ConvertedComp'] <= (q1 - 1.5 * IQR)).sum()\n",
    "print('Number of Outliers below Q1 is {}'.format(lowSum))\n",
    "      \n",
    "uppSum = (df['ConvertedComp'] >= (q3 + 1.5 * IQR)).sum() \n",
    "print('Numberr of Outliers above Q3 is {}'.format(uppSum))\n",
    "      \n",
    "numOutlier = lowSum + uppSum   #= sum(a, b)\n",
    "print('Total Outliers are {}'.format(numOutlier))"
   ]
  },
  {
   "cell_type": "markdown",
   "metadata": {},
   "source": [
    "Create a new dataframe by removing the outliers from the `ConvertedComp` column.\n"
   ]
  },
  {
   "cell_type": "code",
   "execution_count": 31,
   "metadata": {},
   "outputs": [
    {
     "ename": "ValueError",
     "evalue": "operands could not be broadcast together with shapes (11398,) (1,0) ",
     "output_type": "error",
     "traceback": [
      "\u001b[0;31m---------------------------------------------------------------------------\u001b[0m",
      "\u001b[0;31mValueError\u001b[0m                                Traceback (most recent call last)",
      "\u001b[0;32m/tmp/ipykernel_3136/3564000152.py\u001b[0m in \u001b[0;36m<module>\u001b[0;34m\u001b[0m\n\u001b[1;32m     22\u001b[0m \u001b[0mlower\u001b[0m \u001b[0;34m=\u001b[0m \u001b[0mnp\u001b[0m\u001b[0;34m.\u001b[0m\u001b[0mwhere\u001b[0m\u001b[0;34m(\u001b[0m\u001b[0mdf\u001b[0m\u001b[0;34m[\u001b[0m\u001b[0;34m'ConvertedComp'\u001b[0m\u001b[0;34m]\u001b[0m \u001b[0;34m<=\u001b[0m \u001b[0;34m(\u001b[0m\u001b[0mq1\u001b[0m \u001b[0;34m-\u001b[0m \u001b[0;36m1.5\u001b[0m\u001b[0;34m*\u001b[0m\u001b[0mIQR\u001b[0m\u001b[0;34m)\u001b[0m\u001b[0;34m)\u001b[0m   \u001b[0;31m#Lower bound\u001b[0m\u001b[0;34m\u001b[0m\u001b[0;34m\u001b[0m\u001b[0m\n\u001b[1;32m     23\u001b[0m \u001b[0;34m\u001b[0m\u001b[0m\n\u001b[0;32m---> 24\u001b[0;31m \u001b[0mdfNew\u001b[0m \u001b[0;34m=\u001b[0m \u001b[0mdf\u001b[0m\u001b[0;34m.\u001b[0m\u001b[0mloc\u001b[0m\u001b[0;34m[\u001b[0m\u001b[0;34m(\u001b[0m\u001b[0mdf\u001b[0m\u001b[0;34m[\u001b[0m\u001b[0;34m'ConvertedComp'\u001b[0m\u001b[0;34m]\u001b[0m \u001b[0;34m>=\u001b[0m \u001b[0mlower\u001b[0m\u001b[0;34m)\u001b[0m \u001b[0;34m&\u001b[0m \u001b[0;34m(\u001b[0m\u001b[0mdf\u001b[0m\u001b[0;34m[\u001b[0m\u001b[0;34m'ConvertedComp'\u001b[0m\u001b[0;34m]\u001b[0m \u001b[0;34m<=\u001b[0m \u001b[0mupper\u001b[0m\u001b[0;34m)\u001b[0m\u001b[0;34m]\u001b[0m\u001b[0;34m\u001b[0m\u001b[0;34m\u001b[0m\u001b[0m\n\u001b[0m\u001b[1;32m     25\u001b[0m \u001b[0;34m\u001b[0m\u001b[0m\n\u001b[1;32m     26\u001b[0m \"\"\"\n",
      "\u001b[0;32m~/conda/envs/python/lib/python3.7/site-packages/pandas/core/ops/common.py\u001b[0m in \u001b[0;36mnew_method\u001b[0;34m(self, other)\u001b[0m\n\u001b[1;32m     67\u001b[0m         \u001b[0mother\u001b[0m \u001b[0;34m=\u001b[0m \u001b[0mitem_from_zerodim\u001b[0m\u001b[0;34m(\u001b[0m\u001b[0mother\u001b[0m\u001b[0;34m)\u001b[0m\u001b[0;34m\u001b[0m\u001b[0;34m\u001b[0m\u001b[0m\n\u001b[1;32m     68\u001b[0m \u001b[0;34m\u001b[0m\u001b[0m\n\u001b[0;32m---> 69\u001b[0;31m         \u001b[0;32mreturn\u001b[0m \u001b[0mmethod\u001b[0m\u001b[0;34m(\u001b[0m\u001b[0mself\u001b[0m\u001b[0;34m,\u001b[0m \u001b[0mother\u001b[0m\u001b[0;34m)\u001b[0m\u001b[0;34m\u001b[0m\u001b[0;34m\u001b[0m\u001b[0m\n\u001b[0m\u001b[1;32m     70\u001b[0m \u001b[0;34m\u001b[0m\u001b[0m\n\u001b[1;32m     71\u001b[0m     \u001b[0;32mreturn\u001b[0m \u001b[0mnew_method\u001b[0m\u001b[0;34m\u001b[0m\u001b[0;34m\u001b[0m\u001b[0m\n",
      "\u001b[0;32m~/conda/envs/python/lib/python3.7/site-packages/pandas/core/arraylike.py\u001b[0m in \u001b[0;36m__ge__\u001b[0;34m(self, other)\u001b[0m\n\u001b[1;32m     50\u001b[0m     \u001b[0;34m@\u001b[0m\u001b[0munpack_zerodim_and_defer\u001b[0m\u001b[0;34m(\u001b[0m\u001b[0;34m\"__ge__\"\u001b[0m\u001b[0;34m)\u001b[0m\u001b[0;34m\u001b[0m\u001b[0;34m\u001b[0m\u001b[0m\n\u001b[1;32m     51\u001b[0m     \u001b[0;32mdef\u001b[0m \u001b[0m__ge__\u001b[0m\u001b[0;34m(\u001b[0m\u001b[0mself\u001b[0m\u001b[0;34m,\u001b[0m \u001b[0mother\u001b[0m\u001b[0;34m)\u001b[0m\u001b[0;34m:\u001b[0m\u001b[0;34m\u001b[0m\u001b[0;34m\u001b[0m\u001b[0m\n\u001b[0;32m---> 52\u001b[0;31m         \u001b[0;32mreturn\u001b[0m \u001b[0mself\u001b[0m\u001b[0;34m.\u001b[0m\u001b[0m_cmp_method\u001b[0m\u001b[0;34m(\u001b[0m\u001b[0mother\u001b[0m\u001b[0;34m,\u001b[0m \u001b[0moperator\u001b[0m\u001b[0;34m.\u001b[0m\u001b[0mge\u001b[0m\u001b[0;34m)\u001b[0m\u001b[0;34m\u001b[0m\u001b[0;34m\u001b[0m\u001b[0m\n\u001b[0m\u001b[1;32m     53\u001b[0m \u001b[0;34m\u001b[0m\u001b[0m\n\u001b[1;32m     54\u001b[0m     \u001b[0;31m# -------------------------------------------------------------\u001b[0m\u001b[0;34m\u001b[0m\u001b[0;34m\u001b[0m\u001b[0;34m\u001b[0m\u001b[0m\n",
      "\u001b[0;32m~/conda/envs/python/lib/python3.7/site-packages/pandas/core/series.py\u001b[0m in \u001b[0;36m_cmp_method\u001b[0;34m(self, other, op)\u001b[0m\n\u001b[1;32m   5500\u001b[0m \u001b[0;34m\u001b[0m\u001b[0m\n\u001b[1;32m   5501\u001b[0m         \u001b[0;32mwith\u001b[0m \u001b[0mnp\u001b[0m\u001b[0;34m.\u001b[0m\u001b[0merrstate\u001b[0m\u001b[0;34m(\u001b[0m\u001b[0mall\u001b[0m\u001b[0;34m=\u001b[0m\u001b[0;34m\"ignore\"\u001b[0m\u001b[0;34m)\u001b[0m\u001b[0;34m:\u001b[0m\u001b[0;34m\u001b[0m\u001b[0;34m\u001b[0m\u001b[0m\n\u001b[0;32m-> 5502\u001b[0;31m             \u001b[0mres_values\u001b[0m \u001b[0;34m=\u001b[0m \u001b[0mops\u001b[0m\u001b[0;34m.\u001b[0m\u001b[0mcomparison_op\u001b[0m\u001b[0;34m(\u001b[0m\u001b[0mlvalues\u001b[0m\u001b[0;34m,\u001b[0m \u001b[0mrvalues\u001b[0m\u001b[0;34m,\u001b[0m \u001b[0mop\u001b[0m\u001b[0;34m)\u001b[0m\u001b[0;34m\u001b[0m\u001b[0;34m\u001b[0m\u001b[0m\n\u001b[0m\u001b[1;32m   5503\u001b[0m \u001b[0;34m\u001b[0m\u001b[0m\n\u001b[1;32m   5504\u001b[0m         \u001b[0;32mreturn\u001b[0m \u001b[0mself\u001b[0m\u001b[0;34m.\u001b[0m\u001b[0m_construct_result\u001b[0m\u001b[0;34m(\u001b[0m\u001b[0mres_values\u001b[0m\u001b[0;34m,\u001b[0m \u001b[0mname\u001b[0m\u001b[0;34m=\u001b[0m\u001b[0mres_name\u001b[0m\u001b[0;34m)\u001b[0m\u001b[0;34m\u001b[0m\u001b[0;34m\u001b[0m\u001b[0m\n",
      "\u001b[0;32m~/conda/envs/python/lib/python3.7/site-packages/pandas/core/ops/array_ops.py\u001b[0m in \u001b[0;36mcomparison_op\u001b[0;34m(left, right, op)\u001b[0m\n\u001b[1;32m    285\u001b[0m \u001b[0;34m\u001b[0m\u001b[0m\n\u001b[1;32m    286\u001b[0m     \u001b[0;32melse\u001b[0m\u001b[0;34m:\u001b[0m\u001b[0;34m\u001b[0m\u001b[0;34m\u001b[0m\u001b[0m\n\u001b[0;32m--> 287\u001b[0;31m         \u001b[0mres_values\u001b[0m \u001b[0;34m=\u001b[0m \u001b[0m_na_arithmetic_op\u001b[0m\u001b[0;34m(\u001b[0m\u001b[0mlvalues\u001b[0m\u001b[0;34m,\u001b[0m \u001b[0mrvalues\u001b[0m\u001b[0;34m,\u001b[0m \u001b[0mop\u001b[0m\u001b[0;34m,\u001b[0m \u001b[0mis_cmp\u001b[0m\u001b[0;34m=\u001b[0m\u001b[0;32mTrue\u001b[0m\u001b[0;34m)\u001b[0m\u001b[0;34m\u001b[0m\u001b[0;34m\u001b[0m\u001b[0m\n\u001b[0m\u001b[1;32m    288\u001b[0m \u001b[0;34m\u001b[0m\u001b[0m\n\u001b[1;32m    289\u001b[0m     \u001b[0;32mreturn\u001b[0m \u001b[0mres_values\u001b[0m\u001b[0;34m\u001b[0m\u001b[0;34m\u001b[0m\u001b[0m\n",
      "\u001b[0;32m~/conda/envs/python/lib/python3.7/site-packages/pandas/core/ops/array_ops.py\u001b[0m in \u001b[0;36m_na_arithmetic_op\u001b[0;34m(left, right, op, is_cmp)\u001b[0m\n\u001b[1;32m    164\u001b[0m \u001b[0;34m\u001b[0m\u001b[0m\n\u001b[1;32m    165\u001b[0m     \u001b[0;32mtry\u001b[0m\u001b[0;34m:\u001b[0m\u001b[0;34m\u001b[0m\u001b[0;34m\u001b[0m\u001b[0m\n\u001b[0;32m--> 166\u001b[0;31m         \u001b[0mresult\u001b[0m \u001b[0;34m=\u001b[0m \u001b[0mfunc\u001b[0m\u001b[0;34m(\u001b[0m\u001b[0mleft\u001b[0m\u001b[0;34m,\u001b[0m \u001b[0mright\u001b[0m\u001b[0;34m)\u001b[0m\u001b[0;34m\u001b[0m\u001b[0;34m\u001b[0m\u001b[0m\n\u001b[0m\u001b[1;32m    167\u001b[0m     \u001b[0;32mexcept\u001b[0m \u001b[0mTypeError\u001b[0m\u001b[0;34m:\u001b[0m\u001b[0;34m\u001b[0m\u001b[0;34m\u001b[0m\u001b[0m\n\u001b[1;32m    168\u001b[0m         \u001b[0;32mif\u001b[0m \u001b[0mis_object_dtype\u001b[0m\u001b[0;34m(\u001b[0m\u001b[0mleft\u001b[0m\u001b[0;34m)\u001b[0m \u001b[0;32mor\u001b[0m \u001b[0mis_object_dtype\u001b[0m\u001b[0;34m(\u001b[0m\u001b[0mright\u001b[0m\u001b[0;34m)\u001b[0m \u001b[0;32mand\u001b[0m \u001b[0;32mnot\u001b[0m \u001b[0mis_cmp\u001b[0m\u001b[0;34m:\u001b[0m\u001b[0;34m\u001b[0m\u001b[0;34m\u001b[0m\u001b[0m\n",
      "\u001b[0;32m~/conda/envs/python/lib/python3.7/site-packages/pandas/core/computation/expressions.py\u001b[0m in \u001b[0;36mevaluate\u001b[0;34m(op, a, b, use_numexpr)\u001b[0m\n\u001b[1;32m    237\u001b[0m         \u001b[0;32mif\u001b[0m \u001b[0muse_numexpr\u001b[0m\u001b[0;34m:\u001b[0m\u001b[0;34m\u001b[0m\u001b[0;34m\u001b[0m\u001b[0m\n\u001b[1;32m    238\u001b[0m             \u001b[0;31m# error: \"None\" not callable\u001b[0m\u001b[0;34m\u001b[0m\u001b[0;34m\u001b[0m\u001b[0;34m\u001b[0m\u001b[0m\n\u001b[0;32m--> 239\u001b[0;31m             \u001b[0;32mreturn\u001b[0m \u001b[0m_evaluate\u001b[0m\u001b[0;34m(\u001b[0m\u001b[0mop\u001b[0m\u001b[0;34m,\u001b[0m \u001b[0mop_str\u001b[0m\u001b[0;34m,\u001b[0m \u001b[0ma\u001b[0m\u001b[0;34m,\u001b[0m \u001b[0mb\u001b[0m\u001b[0;34m)\u001b[0m  \u001b[0;31m# type: ignore[misc]\u001b[0m\u001b[0;34m\u001b[0m\u001b[0;34m\u001b[0m\u001b[0m\n\u001b[0m\u001b[1;32m    240\u001b[0m     \u001b[0;32mreturn\u001b[0m \u001b[0m_evaluate_standard\u001b[0m\u001b[0;34m(\u001b[0m\u001b[0mop\u001b[0m\u001b[0;34m,\u001b[0m \u001b[0mop_str\u001b[0m\u001b[0;34m,\u001b[0m \u001b[0ma\u001b[0m\u001b[0;34m,\u001b[0m \u001b[0mb\u001b[0m\u001b[0;34m)\u001b[0m\u001b[0;34m\u001b[0m\u001b[0;34m\u001b[0m\u001b[0m\n\u001b[1;32m    241\u001b[0m \u001b[0;34m\u001b[0m\u001b[0m\n",
      "\u001b[0;32m~/conda/envs/python/lib/python3.7/site-packages/pandas/core/computation/expressions.py\u001b[0m in \u001b[0;36m_evaluate_numexpr\u001b[0;34m(op, op_str, a, b)\u001b[0m\n\u001b[1;32m    126\u001b[0m \u001b[0;34m\u001b[0m\u001b[0m\n\u001b[1;32m    127\u001b[0m     \u001b[0;32mif\u001b[0m \u001b[0mresult\u001b[0m \u001b[0;32mis\u001b[0m \u001b[0;32mNone\u001b[0m\u001b[0;34m:\u001b[0m\u001b[0;34m\u001b[0m\u001b[0;34m\u001b[0m\u001b[0m\n\u001b[0;32m--> 128\u001b[0;31m         \u001b[0mresult\u001b[0m \u001b[0;34m=\u001b[0m \u001b[0m_evaluate_standard\u001b[0m\u001b[0;34m(\u001b[0m\u001b[0mop\u001b[0m\u001b[0;34m,\u001b[0m \u001b[0mop_str\u001b[0m\u001b[0;34m,\u001b[0m \u001b[0ma\u001b[0m\u001b[0;34m,\u001b[0m \u001b[0mb\u001b[0m\u001b[0;34m)\u001b[0m\u001b[0;34m\u001b[0m\u001b[0;34m\u001b[0m\u001b[0m\n\u001b[0m\u001b[1;32m    129\u001b[0m \u001b[0;34m\u001b[0m\u001b[0m\n\u001b[1;32m    130\u001b[0m     \u001b[0;32mreturn\u001b[0m \u001b[0mresult\u001b[0m\u001b[0;34m\u001b[0m\u001b[0;34m\u001b[0m\u001b[0m\n",
      "\u001b[0;32m~/conda/envs/python/lib/python3.7/site-packages/pandas/core/computation/expressions.py\u001b[0m in \u001b[0;36m_evaluate_standard\u001b[0;34m(op, op_str, a, b)\u001b[0m\n\u001b[1;32m     67\u001b[0m     \u001b[0;32mif\u001b[0m \u001b[0m_TEST_MODE\u001b[0m\u001b[0;34m:\u001b[0m\u001b[0;34m\u001b[0m\u001b[0;34m\u001b[0m\u001b[0m\n\u001b[1;32m     68\u001b[0m         \u001b[0m_store_test_result\u001b[0m\u001b[0;34m(\u001b[0m\u001b[0;32mFalse\u001b[0m\u001b[0;34m)\u001b[0m\u001b[0;34m\u001b[0m\u001b[0;34m\u001b[0m\u001b[0m\n\u001b[0;32m---> 69\u001b[0;31m     \u001b[0;32mreturn\u001b[0m \u001b[0mop\u001b[0m\u001b[0;34m(\u001b[0m\u001b[0ma\u001b[0m\u001b[0;34m,\u001b[0m \u001b[0mb\u001b[0m\u001b[0;34m)\u001b[0m\u001b[0;34m\u001b[0m\u001b[0;34m\u001b[0m\u001b[0m\n\u001b[0m\u001b[1;32m     70\u001b[0m \u001b[0;34m\u001b[0m\u001b[0m\n\u001b[1;32m     71\u001b[0m \u001b[0;34m\u001b[0m\u001b[0m\n",
      "\u001b[0;31mValueError\u001b[0m: operands could not be broadcast together with shapes (11398,) (1,0) "
     ]
    }
   ],
   "source": [
    "# your code goes here\n",
    "# METHOD 1\n",
    "\n",
    "\"\"\"\n",
    "cols = ['col_1', 'col_2'] # one or more\n",
    "\n",
    "Q1 = df[cols].quantile(0.25)\n",
    "Q3 = df[cols].quantile(0.75)\n",
    "IQR = Q3 - Q1\n",
    "\n",
    "df = df[~((df[cols] < (Q1 - 1.5 * IQR)) | (df[cols] > (Q3 + 1.5 * IQR))).any(axis=1)]\n",
    "https://www.codegrepper.com/code-examples/python/remove+outlier+columns+pandas\n",
    "\"\"\"\n",
    "#METHOLD 2\n",
    "\"\"\"\n",
    "https://www.geeksforgeeks.org/detect-and-remove-the-outliers-using-python/\n",
    "\n",
    "#IQR = Q3 - Q1\n",
    "\"\"\"\n",
    "\n",
    "upper = np.where(df['ConvertedComp'] >= (q3 + 1.5*IQR))   #Upper bound   \n",
    "lower = np.where(df['ConvertedComp'] <= (q1 - 1.5*IQR))   #Lower bound\n",
    "\n",
    "dfNew = df.loc[(df['ConvertedComp'] >= lower) & (df['ConvertedComp'] <= upper)]\n",
    "\n",
    "\"\"\"\n",
    "#dfNew = df.copy()   #Make copy of original df\n",
    "#dfNew\n",
    "\n",
    "new_df = df[filtered_entries]\n",
    "df['ConvertedComp'].drop(upper[0], inplace = True)\n",
    "df['ConvertedComp'].drop(lower[0], inplace = True)\n",
    " \n",
    "print(\"New Data now have Shape: \", df.shape)\n",
    "\"\"\""
   ]
  },
  {
   "cell_type": "code",
   "execution_count": 32,
   "metadata": {},
   "outputs": [
    {
     "ename": "NameError",
     "evalue": "name 'dfNew' is not defined",
     "output_type": "error",
     "traceback": [
      "\u001b[0;31m---------------------------------------------------------------------------\u001b[0m",
      "\u001b[0;31mNameError\u001b[0m                                 Traceback (most recent call last)",
      "\u001b[0;32m/tmp/ipykernel_3136/1031632638.py\u001b[0m in \u001b[0;36m<module>\u001b[0;34m\u001b[0m\n\u001b[1;32m      1\u001b[0m \u001b[0;31m# dfNew shape before dropping Outliers\u001b[0m\u001b[0;34m\u001b[0m\u001b[0;34m\u001b[0m\u001b[0;34m\u001b[0m\u001b[0m\n\u001b[1;32m      2\u001b[0m \u001b[0;34m\u001b[0m\u001b[0m\n\u001b[0;32m----> 3\u001b[0;31m \u001b[0mdfNew\u001b[0m\u001b[0;34m.\u001b[0m\u001b[0mshape\u001b[0m\u001b[0;34m\u001b[0m\u001b[0;34m\u001b[0m\u001b[0m\n\u001b[0m",
      "\u001b[0;31mNameError\u001b[0m: name 'dfNew' is not defined"
     ]
    }
   ],
   "source": [
    "# dfNew shape before dropping Outliers\n",
    "\n",
    "dfNew.shape"
   ]
  },
  {
   "cell_type": "code",
   "execution_count": 33,
   "metadata": {},
   "outputs": [
    {
     "ename": "NameError",
     "evalue": "name 'dfNew' is not defined",
     "output_type": "error",
     "traceback": [
      "\u001b[0;31m---------------------------------------------------------------------------\u001b[0m",
      "\u001b[0;31mNameError\u001b[0m                                 Traceback (most recent call last)",
      "\u001b[0;32m/tmp/ipykernel_3136/2390269724.py\u001b[0m in \u001b[0;36m<module>\u001b[0;34m\u001b[0m\n\u001b[1;32m      1\u001b[0m \u001b[0;31m# Removing Outliers\u001b[0m\u001b[0;34m\u001b[0m\u001b[0;34m\u001b[0m\u001b[0;34m\u001b[0m\u001b[0m\n\u001b[1;32m      2\u001b[0m \u001b[0;34m\u001b[0m\u001b[0m\n\u001b[0;32m----> 3\u001b[0;31m \u001b[0mdfNew\u001b[0m\u001b[0;34m[\u001b[0m\u001b[0;34m'ConvertedComp'\u001b[0m\u001b[0;34m]\u001b[0m\u001b[0;34m.\u001b[0m\u001b[0mdrop\u001b[0m\u001b[0;34m(\u001b[0m\u001b[0mupper\u001b[0m\u001b[0;34m[\u001b[0m\u001b[0;36m0\u001b[0m\u001b[0;34m]\u001b[0m\u001b[0;34m,\u001b[0m \u001b[0minplace\u001b[0m \u001b[0;34m=\u001b[0m \u001b[0;32mTrue\u001b[0m\u001b[0;34m)\u001b[0m\u001b[0;34m\u001b[0m\u001b[0;34m\u001b[0m\u001b[0m\n\u001b[0m\u001b[1;32m      4\u001b[0m \u001b[0mdfNew\u001b[0m\u001b[0;34m[\u001b[0m\u001b[0;34m'ConvertedComp'\u001b[0m\u001b[0;34m]\u001b[0m\u001b[0;34m.\u001b[0m\u001b[0mdrop\u001b[0m\u001b[0;34m(\u001b[0m\u001b[0mlower\u001b[0m\u001b[0;34m[\u001b[0m\u001b[0;36m0\u001b[0m\u001b[0;34m]\u001b[0m\u001b[0;34m,\u001b[0m \u001b[0minplace\u001b[0m \u001b[0;34m=\u001b[0m \u001b[0;32mTrue\u001b[0m\u001b[0;34m)\u001b[0m\u001b[0;34m\u001b[0m\u001b[0;34m\u001b[0m\u001b[0m\n\u001b[1;32m      5\u001b[0m \u001b[0;34m\u001b[0m\u001b[0m\n",
      "\u001b[0;31mNameError\u001b[0m: name 'dfNew' is not defined"
     ]
    }
   ],
   "source": [
    "# Removing Outliers\n",
    "\n",
    "dfNew['ConvertedComp'].drop(upper[0], inplace = True)\n",
    "dfNew['ConvertedComp'].drop(lower[0], inplace = True)\n",
    " \n",
    "print(\"New Data now have Shape: \", dfNew.shape)\n",
    "print(\"Orig Data now have Shape: \", df.shape)"
   ]
  },
  {
   "cell_type": "code",
   "execution_count": 34,
   "metadata": {},
   "outputs": [
    {
     "ename": "NameError",
     "evalue": "name 'dfNew' is not defined",
     "output_type": "error",
     "traceback": [
      "\u001b[0;31m---------------------------------------------------------------------------\u001b[0m",
      "\u001b[0;31mNameError\u001b[0m                                 Traceback (most recent call last)",
      "\u001b[0;32m/tmp/ipykernel_3136/966621527.py\u001b[0m in \u001b[0;36m<module>\u001b[0;34m\u001b[0m\n\u001b[0;32m----> 1\u001b[0;31m \u001b[0mdfNew\u001b[0m\u001b[0;34m[\u001b[0m\u001b[0;34m'ConvertedComp'\u001b[0m\u001b[0;34m]\u001b[0m\u001b[0;34m\u001b[0m\u001b[0;34m\u001b[0m\u001b[0m\n\u001b[0m",
      "\u001b[0;31mNameError\u001b[0m: name 'dfNew' is not defined"
     ]
    }
   ],
   "source": [
    "dfNew['ConvertedComp']"
   ]
  },
  {
   "cell_type": "code",
   "execution_count": 35,
   "metadata": {},
   "outputs": [
    {
     "ename": "NameError",
     "evalue": "name 'dfNew' is not defined",
     "output_type": "error",
     "traceback": [
      "\u001b[0;31m---------------------------------------------------------------------------\u001b[0m",
      "\u001b[0;31mNameError\u001b[0m                                 Traceback (most recent call last)",
      "\u001b[0;32m/tmp/ipykernel_3136/556272299.py\u001b[0m in \u001b[0;36m<module>\u001b[0;34m\u001b[0m\n\u001b[0;32m----> 1\u001b[0;31m \u001b[0mdfNew\u001b[0m\u001b[0;34m[\u001b[0m\u001b[0;34m'ConvertedComp'\u001b[0m\u001b[0;34m]\u001b[0m\u001b[0;34m.\u001b[0m\u001b[0misnull\u001b[0m\u001b[0;34m(\u001b[0m\u001b[0;34m)\u001b[0m\u001b[0;34m.\u001b[0m\u001b[0msum\u001b[0m\u001b[0;34m(\u001b[0m\u001b[0;34m)\u001b[0m\u001b[0;34m\u001b[0m\u001b[0;34m\u001b[0m\u001b[0m\n\u001b[0m",
      "\u001b[0;31mNameError\u001b[0m: name 'dfNew' is not defined"
     ]
    }
   ],
   "source": [
    "dfNew['ConvertedComp'].isnull().sum()"
   ]
  },
  {
   "cell_type": "code",
   "execution_count": 36,
   "metadata": {},
   "outputs": [
    {
     "ename": "NameError",
     "evalue": "name 'dfNew' is not defined",
     "output_type": "error",
     "traceback": [
      "\u001b[0;31m---------------------------------------------------------------------------\u001b[0m",
      "\u001b[0;31mNameError\u001b[0m                                 Traceback (most recent call last)",
      "\u001b[0;32m/tmp/ipykernel_3136/2442721166.py\u001b[0m in \u001b[0;36m<module>\u001b[0;34m\u001b[0m\n\u001b[1;32m      1\u001b[0m \u001b[0;31m# your code goes here - Column MEAN AFTER DROPPING OUTLIERS\u001b[0m\u001b[0;34m\u001b[0m\u001b[0;34m\u001b[0m\u001b[0;34m\u001b[0m\u001b[0m\n\u001b[1;32m      2\u001b[0m \u001b[0;34m\u001b[0m\u001b[0m\n\u001b[0;32m----> 3\u001b[0;31m \u001b[0mprint\u001b[0m\u001b[0;34m(\u001b[0m\u001b[0;34m'CONVERTEDCOMP Mean After Dropping Outliers {}'\u001b[0m\u001b[0;34m.\u001b[0m\u001b[0mformat\u001b[0m\u001b[0;34m(\u001b[0m\u001b[0mdfNew\u001b[0m\u001b[0;34m[\u001b[0m\u001b[0;34m'ConvertedComp'\u001b[0m\u001b[0;34m]\u001b[0m\u001b[0;34m.\u001b[0m\u001b[0mmean\u001b[0m\u001b[0;34m(\u001b[0m\u001b[0;34m)\u001b[0m\u001b[0;34m)\u001b[0m\u001b[0;34m)\u001b[0m\u001b[0;34m\u001b[0m\u001b[0;34m\u001b[0m\u001b[0m\n\u001b[0m",
      "\u001b[0;31mNameError\u001b[0m: name 'dfNew' is not defined"
     ]
    }
   ],
   "source": [
    "# your code goes here - Column MEAN AFTER DROPPING OUTLIERS\n",
    "\n",
    "print('CONVERTEDCOMP Mean After Dropping Outliers {}'.format(dfNew['ConvertedComp'].mean()))\n"
   ]
  },
  {
   "cell_type": "code",
   "execution_count": 37,
   "metadata": {},
   "outputs": [
    {
     "ename": "NameError",
     "evalue": "name 'dfNew' is not defined",
     "output_type": "error",
     "traceback": [
      "\u001b[0;31m---------------------------------------------------------------------------\u001b[0m",
      "\u001b[0;31mNameError\u001b[0m                                 Traceback (most recent call last)",
      "\u001b[0;32m/tmp/ipykernel_3136/483631469.py\u001b[0m in \u001b[0;36m<module>\u001b[0;34m\u001b[0m\n\u001b[0;32m----> 1\u001b[0;31m \u001b[0mdfNew\u001b[0m\u001b[0;34m.\u001b[0m\u001b[0mdescribe\u001b[0m\u001b[0;34m(\u001b[0m\u001b[0;34m)\u001b[0m\u001b[0;34m\u001b[0m\u001b[0;34m\u001b[0m\u001b[0m\n\u001b[0m",
      "\u001b[0;31mNameError\u001b[0m: name 'dfNew' is not defined"
     ]
    }
   ],
   "source": [
    "dfNew.describe()"
   ]
  },
  {
   "cell_type": "code",
   "execution_count": null,
   "metadata": {},
   "outputs": [],
   "source": [
    "# your code goes here - Column MEDIAN\n",
    "print('Median of CONVERTEDCOMP Colunn is {}'.format(df['ConvertedComp'].median()))\n"
   ]
  },
  {
   "cell_type": "markdown",
   "metadata": {},
   "source": [
    "## Correlation\n"
   ]
  },
  {
   "cell_type": "markdown",
   "metadata": {},
   "source": [
    "### Finding correlation\n"
   ]
  },
  {
   "cell_type": "markdown",
   "metadata": {},
   "source": [
    "Find the correlation between `Age` and all other numerical columns.\n"
   ]
  },
  {
   "cell_type": "code",
   "execution_count": 38,
   "metadata": {
    "tags": []
   },
   "outputs": [
    {
     "data": {
      "text/plain": [
       "0"
      ]
     },
     "execution_count": 38,
     "metadata": {},
     "output_type": "execute_result"
    }
   ],
   "source": [
    "df['Respondent'].isna().sum()   #number of missing values in WorkWeekHrs"
   ]
  },
  {
   "cell_type": "code",
   "execution_count": 39,
   "metadata": {
    "tags": []
   },
   "outputs": [
    {
     "data": {
      "text/plain": [
       "809"
      ]
     },
     "execution_count": 39,
     "metadata": {},
     "output_type": "execute_result"
    }
   ],
   "source": [
    "df['CompTotal'].isna().sum()   #number of missing values in WorkWeekHrs"
   ]
  },
  {
   "cell_type": "code",
   "execution_count": 40,
   "metadata": {},
   "outputs": [],
   "source": [
    "# your code goes here\n",
    "\n",
    "meanCompTot = df['CompTotal'].mean()\n",
    "\n",
    "df['CompTotal'].replace(np.nan, meanCompTot, inplace=True)"
   ]
  },
  {
   "cell_type": "code",
   "execution_count": 41,
   "metadata": {
    "tags": []
   },
   "outputs": [
    {
     "data": {
      "text/plain": [
       "0"
      ]
     },
     "execution_count": 41,
     "metadata": {},
     "output_type": "execute_result"
    }
   ],
   "source": [
    "df['ConvertedComp'].isna().sum()   #number of missing values in WorkWeekHrs"
   ]
  },
  {
   "cell_type": "code",
   "execution_count": 42,
   "metadata": {
    "tags": []
   },
   "outputs": [
    {
     "data": {
      "text/plain": [
       "122"
      ]
     },
     "execution_count": 42,
     "metadata": {},
     "output_type": "execute_result"
    }
   ],
   "source": [
    "df['WorkWeekHrs'].isna().sum()   #number of missing values in WorkWeekHrs"
   ]
  },
  {
   "cell_type": "code",
   "execution_count": 43,
   "metadata": {},
   "outputs": [],
   "source": [
    "# your code goes here\n",
    "\n",
    "meanworkHrs = df['WorkWeekHrs'].mean()\n",
    "\n",
    "df['WorkWeekHrs'].replace(np.nan, meanworkHrs, inplace=True)"
   ]
  },
  {
   "cell_type": "code",
   "execution_count": 44,
   "metadata": {
    "tags": []
   },
   "outputs": [
    {
     "data": {
      "text/plain": [
       "2426"
      ]
     },
     "execution_count": 44,
     "metadata": {},
     "output_type": "execute_result"
    }
   ],
   "source": [
    "df['CodeRevHrs'].isna().sum()   #number of missing values in WorkWeekHrs"
   ]
  },
  {
   "cell_type": "code",
   "execution_count": 45,
   "metadata": {},
   "outputs": [],
   "source": [
    "# your code goes here\n",
    "\n",
    "meanCodeHrs = df['CodeRevHrs'].mean()\n",
    "\n",
    "df['CodeRevHrs'].replace(np.nan, meanCodeHrs, inplace=True)"
   ]
  },
  {
   "cell_type": "code",
   "execution_count": 46,
   "metadata": {},
   "outputs": [
    {
     "data": {
      "text/plain": [
       "\"import plotly.express as px\\nz = df[['Respondent', 'CompTotal', 'WorkWeekHrs', 'CodeRevHrs']]\\n\\nfig = px.imshow(z, text_auto=True)\\nfig.show()\""
      ]
     },
     "execution_count": 46,
     "metadata": {},
     "output_type": "execute_result"
    }
   ],
   "source": [
    "\"\"\"import plotly.express as px\n",
    "z = df[['Respondent', 'CompTotal', 'WorkWeekHrs', 'CodeRevHrs']]\n",
    "\n",
    "fig = px.imshow(z, text_auto=True)\n",
    "fig.show()\"\"\""
   ]
  },
  {
   "cell_type": "code",
   "execution_count": 47,
   "metadata": {},
   "outputs": [
    {
     "data": {
      "image/png": "[encoded data removed]",
      "text/plain": [
       "<Figure size 1080x1080 with 2 Axes>"
      ]
     },
     "metadata": {},
     "output_type": "display_data"
    }
   ],
   "source": [
    "# Correlation Using HeatMap\n",
    "#Import Modules\n",
    "\n",
    "import numpy as np\n",
    "import seaborn as sns\n",
    "import matplotlib.pylab as plt\n",
    "plt.style.use(\"seaborn\")\n",
    " \n",
    "z = df[['Respondent', 'CompTotal', 'WorkWeekHrs', 'CodeRevHrs']]\n",
    "\n",
    "# Plot the heatmap\n",
    "plt.figure(figsize=(15,15))\n",
    "heat_map = sns.heatmap(z, linewidth=1, annot=True)\n",
    "plt.title( \"SnS HeatMap of Numerical Variables\" )\n",
    "plt.show()"
   ]
  },
  {
   "cell_type": "code",
   "execution_count": 48,
   "metadata": {},
   "outputs": [],
   "source": [
    "# your code goes here - CORRELATION BETWEEN AGE AND WORKWEEKHRS\n",
    "\n",
    "from scipy import stats\n",
    "from scipy.stats.stats import pearsonr\n"
   ]
  },
  {
   "cell_type": "code",
   "execution_count": 49,
   "metadata": {},
   "outputs": [
    {
     "data": {
      "text/plain": [
       "\"\\n# your code goes here - CORRELATION BETWEEN AGE AND WORKWEEKHRS\\n\\npearson_coef, p_value = stats.pearsonr(df['WorkWeekHrs'], df['Age'])\\n\\n#print('Correlation between Age and WorkWeekHrs is {}',format(df['WorkWeekHrs'].corr()['Age']))\\n\\nprint('Pearson Coeff between WorkWeekHrs & Age is {}'.format(pearson_coef))\\n\\nprint('P-Value betwen WorkWeekHrs & Age is {}'.format(p_value))\\n\""
      ]
     },
     "execution_count": 49,
     "metadata": {},
     "output_type": "execute_result"
    }
   ],
   "source": [
    "\"\"\"\n",
    "# your code goes here - CORRELATION BETWEEN AGE AND WORKWEEKHRS\n",
    "\n",
    "pearson_coef, p_value = stats.pearsonr(df['WorkWeekHrs'], df['Age'])\n",
    "\n",
    "#print('Correlation between Age and WorkWeekHrs is {}',format(df['WorkWeekHrs'].corr()['Age']))\n",
    "\n",
    "print('Pearson Coeff between WorkWeekHrs & Age is {}'.format(pearson_coef))\n",
    "\n",
    "print('P-Value betwen WorkWeekHrs & Age is {}'.format(p_value))\n",
    "\"\"\"\n",
    "\n",
    "#df[['Age', 'WorkWeekHrs']].corr()"
   ]
  },
  {
   "cell_type": "code",
   "execution_count": 51,
   "metadata": {},
   "outputs": [
    {
     "name": "stdout",
     "output_type": "stream",
     "text": [
      "0        61000.0\n",
      "2        90000.0\n",
      "4        65277.0\n",
      "5        31140.0\n",
      "6        41244.0\n",
      "          ...   \n",
      "11387    39180.0\n",
      "11389    35518.0\n",
      "11391    68748.0\n",
      "11396    80371.0\n",
      "11397    57745.0\n",
      "Name: ConvertedComp, Length: 5744, dtype: float64\n",
      "The IQR for the q1 and q3: 65984.0\n"
     ]
    },
    {
     "name": "stderr",
     "output_type": "stream",
     "text": [
      "/home/jupyterlab/conda/envs/python/lib/python3.7/site-packages/ipykernel_launcher.py:1: FutureWarning: Boolean inputs to the `inclusive` argument are deprecated infavour of `both` or `neither`.\n",
      "  \"\"\"Entry point for launching an IPython kernel.\n",
      "/home/jupyterlab/conda/envs/python/lib/python3.7/site-packages/ipykernel_launcher.py:4: FutureWarning: Boolean inputs to the `inclusive` argument are deprecated infavour of `both` or `neither`.\n",
      "  after removing the cwd from sys.path.\n"
     ]
    }
   ],
   "source": [
    "iqr = df['ConvertedComp'][df['ConvertedComp'].between(df['ConvertedComp'].quantile(.25), df['ConvertedComp'].quantile(.75), inclusive=True)]\n",
    "q1 = df['ConvertedComp'].quantile(.25)\n",
    "q3 = df['ConvertedComp'].quantile(.75)\n",
    "mask = df['ConvertedComp'].between(q1, q3, inclusive=True)\n",
    "iqr = df.loc[mask, 'ConvertedComp']\n",
    "iqr_q3_q1 = q3 - q1\n",
    "print(iqr)\n",
    "print('The IQR for the q1 and q3:', iqr_q3_q1)\n"
   ]
  },
  {
   "cell_type": "code",
   "execution_count": 50,
   "metadata": {},
   "outputs": [
    {
     "data": {
      "text/plain": [
       "Respondent       0.003991\n",
       "CompTotal        0.006732\n",
       "ConvertedComp    0.101822\n",
       "WorkWeekHrs      0.036311\n",
       "CodeRevHrs      -0.017042\n",
       "Age              1.000000\n",
       "Name: Age, dtype: float64"
      ]
     },
     "execution_count": 50,
     "metadata": {},
     "output_type": "execute_result"
    }
   ],
   "source": [
    "# Correlation Using Corr Function\n",
    "\n",
    "df.corr()['Age']"
   ]
  },
  {
   "cell_type": "code",
   "execution_count": 52,
   "metadata": {},
   "outputs": [
    {
     "data": {
      "text/plain": [
       "\"\\niqr = df['ConvertedComp'][df['ConvertedComp'].between(df['ConvertedComp'].quantile(.25), df['ConvertedComp'].quantile(.75), inclusive=True)]\\nq1 = df['ConvertedComp'].quantile(.25)\\nq3 = df['ConvertedComp'].quantile(.75)\\nmask = df['ConvertedComp'].between(q1, q3, inclusive=True)\\niqr = df.loc[mask, 'ConvertedComp']\\niqr_q3_q1 = q3 - q1\\nprint(iqr)\\nprint('The IQR for the q1 and q3:', iqr_q3_q1)\\n\""
      ]
     },
     "execution_count": 52,
     "metadata": {},
     "output_type": "execute_result"
    }
   ],
   "source": [
    "\"\"\"\n",
    "iqr = df['ConvertedComp'][df['ConvertedComp'].between(df['ConvertedComp'].quantile(.25), df['ConvertedComp'].quantile(.75), inclusive=True)]\n",
    "q1 = df['ConvertedComp'].quantile(.25)\n",
    "q3 = df['ConvertedComp'].quantile(.75)\n",
    "mask = df['ConvertedComp'].between(q1, q3, inclusive=True)\n",
    "iqr = df.loc[mask, 'ConvertedComp']\n",
    "iqr_q3_q1 = q3 - q1\n",
    "print(iqr)\n",
    "print('The IQR for the q1 and q3:', iqr_q3_q1)\n",
    "\"\"\""
   ]
  },
  {
   "cell_type": "markdown",
   "metadata": {},
   "source": [
    "## Authors\n"
   ]
  },
  {
   "cell_type": "markdown",
   "metadata": {},
   "source": [
    "Ramesh Sannareddy\n"
   ]
  },
  {
   "cell_type": "markdown",
   "metadata": {},
   "source": [
    "### Other Contributors\n"
   ]
  },
  {
   "cell_type": "markdown",
   "metadata": {},
   "source": [
    "Rav Ahuja"
   ]
  },
  {
   "cell_type": "markdown",
   "metadata": {},
   "source": [
    "## Change Log\n"
   ]
  },
  {
   "cell_type": "markdown",
   "metadata": {},
   "source": [
    "| Date (YYYY-MM-DD) | Version | Changed By        | Change Description                 |\n",
    "| ----------------- | ------- | ----------------- | ---------------------------------- |\n",
    "| 2020-10-17        | 0.1     | Ramesh Sannareddy | Created initial version of the lab |\n"
   ]
  },
  {
   "cell_type": "markdown",
   "metadata": {},
   "source": [
    "Copyright © 2020 IBM Corporation. This notebook and its source code are released under the terms of the [MIT License](https://cognitiveclass.ai/mit-license?utm_medium=Exinfluencer&utm_source=Exinfluencer&utm_content=000026UJ&utm_term=10006555&utm_id=NA-SkillsNetwork-Channel-SkillsNetworkCoursesIBMDA0321ENSkillsNetwork21426264-2021-01-01&cm_mmc=Email_Newsletter-\\_-Developer_Ed%2BTech-\\_-WW_WW-\\_-SkillsNetwork-Courses-IBM-DA0321EN-SkillsNetwork-21426264&cm_mmca1=000026UJ&cm_mmca2=10006555&cm_mmca3=M12345678&cvosrc=email.Newsletter.M12345678&cvo_campaign=000026UJ).\n"
   ]
  }
 ],
 "metadata": {
  "kernelspec": {
   "display_name": "Python",
   "language": "python",
   "name": "conda-env-python-py"
  },
  "language_info": {
   "codemirror_mode": {
    "name": "ipython",
    "version": 3
   },
   "file_extension": ".py",
   "mimetype": "text/x-python",
   "name": "python",
   "nbconvert_exporter": "python",
   "pygments_lexer": "ipython3",
   "version": "3.7.12"
  }
 },
 "nbformat": 4,
 "nbformat_minor": 4
}
